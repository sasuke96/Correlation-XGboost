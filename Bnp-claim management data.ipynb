{
 "cells": [
  {
   "cell_type": "markdown",
   "metadata": {},
   "source": [
    "## Correlation in XGboost part 2"
   ]
  },
  {
   "cell_type": "markdown",
   "metadata": {},
   "source": [
    "The idea of this exercise is to figure out effect of correlated variable on the model performance of xgboost"
   ]
  },
  {
   "cell_type": "markdown",
   "metadata": {},
   "source": [
    "For this we are using BNP Paribas Cardif Claims Management from kaggle"
   ]
  },
  {
   "cell_type": "markdown",
   "metadata": {},
   "source": [
    "In this exercise we will remove correlated variable to see the impact on performance after removing correlated variable"
   ]
  },
  {
   "cell_type": "code",
   "execution_count": 2,
   "metadata": {},
   "outputs": [],
   "source": [
    "# importing libraries\n",
    "import pandas as pd\n",
    "import numpy as np\n",
    "import pickle\n",
    "import xgboost\n",
    "from sklearn.model_selection import train_test_split\n",
    "from xgboost import XGBClassifier\n",
    "import matplotlib.pyplot as plt\n",
    "import seaborn as sns\n",
    "%matplotlib inline"
   ]
  },
  {
   "cell_type": "code",
   "execution_count": 3,
   "metadata": {},
   "outputs": [],
   "source": [
    "train=pd.read_csv('.../train.csv')"
   ]
  },
  {
   "cell_type": "code",
   "execution_count": 5,
   "metadata": {},
   "outputs": [
    {
     "data": {
      "text/plain": [
       "(114321, 133)"
      ]
     },
     "execution_count": 5,
     "metadata": {},
     "output_type": "execute_result"
    }
   ],
   "source": [
    "train.shape"
   ]
  },
  {
   "cell_type": "markdown",
   "metadata": {},
   "source": [
    "#### Checking Correlation in the daa"
   ]
  },
  {
   "cell_type": "code",
   "execution_count": 6,
   "metadata": {},
   "outputs": [
    {
     "data": {
      "text/html": [
       "<div>\n",
       "<style scoped>\n",
       "    .dataframe tbody tr th:only-of-type {\n",
       "        vertical-align: middle;\n",
       "    }\n",
       "\n",
       "    .dataframe tbody tr th {\n",
       "        vertical-align: top;\n",
       "    }\n",
       "\n",
       "    .dataframe thead th {\n",
       "        text-align: right;\n",
       "    }\n",
       "</style>\n",
       "<table border=\"1\" class=\"dataframe\">\n",
       "  <thead>\n",
       "    <tr style=\"text-align: right;\">\n",
       "      <th></th>\n",
       "      <th>ID</th>\n",
       "      <th>target</th>\n",
       "      <th>v1</th>\n",
       "      <th>v2</th>\n",
       "      <th>v4</th>\n",
       "      <th>v5</th>\n",
       "      <th>v6</th>\n",
       "      <th>v7</th>\n",
       "      <th>v8</th>\n",
       "      <th>v9</th>\n",
       "      <th>...</th>\n",
       "      <th>v121</th>\n",
       "      <th>v122</th>\n",
       "      <th>v123</th>\n",
       "      <th>v124</th>\n",
       "      <th>v126</th>\n",
       "      <th>v127</th>\n",
       "      <th>v128</th>\n",
       "      <th>v129</th>\n",
       "      <th>v130</th>\n",
       "      <th>v131</th>\n",
       "    </tr>\n",
       "  </thead>\n",
       "  <tbody>\n",
       "    <tr>\n",
       "      <th>ID</th>\n",
       "      <td>1.000000</td>\n",
       "      <td>-0.000080</td>\n",
       "      <td>0.002077</td>\n",
       "      <td>0.000492</td>\n",
       "      <td>0.000707</td>\n",
       "      <td>-0.002149</td>\n",
       "      <td>0.003294</td>\n",
       "      <td>0.001049</td>\n",
       "      <td>-0.001218</td>\n",
       "      <td>0.005397</td>\n",
       "      <td>...</td>\n",
       "      <td>-0.001624</td>\n",
       "      <td>0.008248</td>\n",
       "      <td>-0.003393</td>\n",
       "      <td>-0.000232</td>\n",
       "      <td>-0.002028</td>\n",
       "      <td>-0.001602</td>\n",
       "      <td>-0.001285</td>\n",
       "      <td>-0.000249</td>\n",
       "      <td>0.000610</td>\n",
       "      <td>0.005567</td>\n",
       "    </tr>\n",
       "    <tr>\n",
       "      <th>target</th>\n",
       "      <td>-0.000080</td>\n",
       "      <td>1.000000</td>\n",
       "      <td>-0.008114</td>\n",
       "      <td>0.036568</td>\n",
       "      <td>0.059842</td>\n",
       "      <td>0.022336</td>\n",
       "      <td>0.030610</td>\n",
       "      <td>0.033370</td>\n",
       "      <td>-0.011442</td>\n",
       "      <td>-0.012566</td>\n",
       "      <td>...</td>\n",
       "      <td>-0.044467</td>\n",
       "      <td>0.003251</td>\n",
       "      <td>-0.055940</td>\n",
       "      <td>-0.006770</td>\n",
       "      <td>0.000537</td>\n",
       "      <td>0.013986</td>\n",
       "      <td>0.034045</td>\n",
       "      <td>0.142141</td>\n",
       "      <td>-0.046252</td>\n",
       "      <td>0.027538</td>\n",
       "    </tr>\n",
       "    <tr>\n",
       "      <th>v1</th>\n",
       "      <td>0.002077</td>\n",
       "      <td>-0.008114</td>\n",
       "      <td>1.000000</td>\n",
       "      <td>-0.213646</td>\n",
       "      <td>-0.141588</td>\n",
       "      <td>-0.067014</td>\n",
       "      <td>-0.015818</td>\n",
       "      <td>0.099846</td>\n",
       "      <td>0.154134</td>\n",
       "      <td>-0.021217</td>\n",
       "      <td>...</td>\n",
       "      <td>0.354057</td>\n",
       "      <td>-0.129005</td>\n",
       "      <td>0.300573</td>\n",
       "      <td>0.149997</td>\n",
       "      <td>0.032009</td>\n",
       "      <td>-0.007216</td>\n",
       "      <td>-0.031953</td>\n",
       "      <td>-0.023630</td>\n",
       "      <td>0.261638</td>\n",
       "      <td>0.695383</td>\n",
       "    </tr>\n",
       "    <tr>\n",
       "      <th>v2</th>\n",
       "      <td>0.000492</td>\n",
       "      <td>0.036568</td>\n",
       "      <td>-0.213646</td>\n",
       "      <td>1.000000</td>\n",
       "      <td>0.537830</td>\n",
       "      <td>0.203350</td>\n",
       "      <td>0.021973</td>\n",
       "      <td>0.350390</td>\n",
       "      <td>-0.362706</td>\n",
       "      <td>-0.008776</td>\n",
       "      <td>...</td>\n",
       "      <td>-0.573112</td>\n",
       "      <td>0.169558</td>\n",
       "      <td>-0.592484</td>\n",
       "      <td>-0.256456</td>\n",
       "      <td>-0.103122</td>\n",
       "      <td>0.009513</td>\n",
       "      <td>0.265314</td>\n",
       "      <td>0.074373</td>\n",
       "      <td>-0.578621</td>\n",
       "      <td>0.176927</td>\n",
       "    </tr>\n",
       "    <tr>\n",
       "      <th>v4</th>\n",
       "      <td>0.000707</td>\n",
       "      <td>0.059842</td>\n",
       "      <td>-0.141588</td>\n",
       "      <td>0.537830</td>\n",
       "      <td>1.000000</td>\n",
       "      <td>0.267454</td>\n",
       "      <td>0.374942</td>\n",
       "      <td>0.475104</td>\n",
       "      <td>-0.164266</td>\n",
       "      <td>-0.210691</td>\n",
       "      <td>...</td>\n",
       "      <td>-0.618341</td>\n",
       "      <td>0.040576</td>\n",
       "      <td>-0.712460</td>\n",
       "      <td>-0.047883</td>\n",
       "      <td>-0.116638</td>\n",
       "      <td>0.297471</td>\n",
       "      <td>0.493856</td>\n",
       "      <td>0.104782</td>\n",
       "      <td>-0.703486</td>\n",
       "      <td>0.313984</td>\n",
       "    </tr>\n",
       "    <tr>\n",
       "      <th>...</th>\n",
       "      <td>...</td>\n",
       "      <td>...</td>\n",
       "      <td>...</td>\n",
       "      <td>...</td>\n",
       "      <td>...</td>\n",
       "      <td>...</td>\n",
       "      <td>...</td>\n",
       "      <td>...</td>\n",
       "      <td>...</td>\n",
       "      <td>...</td>\n",
       "      <td>...</td>\n",
       "      <td>...</td>\n",
       "      <td>...</td>\n",
       "      <td>...</td>\n",
       "      <td>...</td>\n",
       "      <td>...</td>\n",
       "      <td>...</td>\n",
       "      <td>...</td>\n",
       "      <td>...</td>\n",
       "      <td>...</td>\n",
       "      <td>...</td>\n",
       "    </tr>\n",
       "    <tr>\n",
       "      <th>v127</th>\n",
       "      <td>-0.001602</td>\n",
       "      <td>0.013986</td>\n",
       "      <td>-0.007216</td>\n",
       "      <td>0.009513</td>\n",
       "      <td>0.297471</td>\n",
       "      <td>-0.225271</td>\n",
       "      <td>0.152123</td>\n",
       "      <td>0.240785</td>\n",
       "      <td>-0.014817</td>\n",
       "      <td>0.129053</td>\n",
       "      <td>...</td>\n",
       "      <td>0.018757</td>\n",
       "      <td>0.102733</td>\n",
       "      <td>-0.160629</td>\n",
       "      <td>-0.052160</td>\n",
       "      <td>-0.082246</td>\n",
       "      <td>1.000000</td>\n",
       "      <td>-0.158137</td>\n",
       "      <td>0.014739</td>\n",
       "      <td>-0.240912</td>\n",
       "      <td>0.068980</td>\n",
       "    </tr>\n",
       "    <tr>\n",
       "      <th>v128</th>\n",
       "      <td>-0.001285</td>\n",
       "      <td>0.034045</td>\n",
       "      <td>-0.031953</td>\n",
       "      <td>0.265314</td>\n",
       "      <td>0.493856</td>\n",
       "      <td>0.594856</td>\n",
       "      <td>0.232908</td>\n",
       "      <td>0.092403</td>\n",
       "      <td>0.017531</td>\n",
       "      <td>-0.283054</td>\n",
       "      <td>...</td>\n",
       "      <td>-0.379941</td>\n",
       "      <td>-0.058556</td>\n",
       "      <td>-0.262807</td>\n",
       "      <td>0.265547</td>\n",
       "      <td>-0.140135</td>\n",
       "      <td>-0.158137</td>\n",
       "      <td>1.000000</td>\n",
       "      <td>0.057457</td>\n",
       "      <td>-0.296302</td>\n",
       "      <td>0.238871</td>\n",
       "    </tr>\n",
       "    <tr>\n",
       "      <th>v129</th>\n",
       "      <td>-0.000249</td>\n",
       "      <td>0.142141</td>\n",
       "      <td>-0.023630</td>\n",
       "      <td>0.074373</td>\n",
       "      <td>0.104782</td>\n",
       "      <td>0.045227</td>\n",
       "      <td>0.044484</td>\n",
       "      <td>0.035459</td>\n",
       "      <td>-0.018412</td>\n",
       "      <td>-0.036520</td>\n",
       "      <td>...</td>\n",
       "      <td>-0.079153</td>\n",
       "      <td>-0.001913</td>\n",
       "      <td>-0.096211</td>\n",
       "      <td>-0.007498</td>\n",
       "      <td>-0.015240</td>\n",
       "      <td>0.014739</td>\n",
       "      <td>0.057457</td>\n",
       "      <td>1.000000</td>\n",
       "      <td>-0.075207</td>\n",
       "      <td>0.031893</td>\n",
       "    </tr>\n",
       "    <tr>\n",
       "      <th>v130</th>\n",
       "      <td>0.000610</td>\n",
       "      <td>-0.046252</td>\n",
       "      <td>0.261638</td>\n",
       "      <td>-0.578621</td>\n",
       "      <td>-0.703486</td>\n",
       "      <td>-0.255003</td>\n",
       "      <td>-0.298505</td>\n",
       "      <td>-0.618393</td>\n",
       "      <td>0.314398</td>\n",
       "      <td>0.085586</td>\n",
       "      <td>...</td>\n",
       "      <td>0.809212</td>\n",
       "      <td>-0.189123</td>\n",
       "      <td>0.735182</td>\n",
       "      <td>0.221846</td>\n",
       "      <td>0.076327</td>\n",
       "      <td>-0.240912</td>\n",
       "      <td>-0.296302</td>\n",
       "      <td>-0.075207</td>\n",
       "      <td>1.000000</td>\n",
       "      <td>-0.267830</td>\n",
       "    </tr>\n",
       "    <tr>\n",
       "      <th>v131</th>\n",
       "      <td>0.005567</td>\n",
       "      <td>0.027538</td>\n",
       "      <td>0.695383</td>\n",
       "      <td>0.176927</td>\n",
       "      <td>0.313984</td>\n",
       "      <td>0.147843</td>\n",
       "      <td>0.159817</td>\n",
       "      <td>0.327402</td>\n",
       "      <td>-0.031654</td>\n",
       "      <td>-0.154365</td>\n",
       "      <td>...</td>\n",
       "      <td>-0.248308</td>\n",
       "      <td>-0.014827</td>\n",
       "      <td>-0.180707</td>\n",
       "      <td>0.029011</td>\n",
       "      <td>-0.025844</td>\n",
       "      <td>0.068980</td>\n",
       "      <td>0.238871</td>\n",
       "      <td>0.031893</td>\n",
       "      <td>-0.267830</td>\n",
       "      <td>1.000000</td>\n",
       "    </tr>\n",
       "  </tbody>\n",
       "</table>\n",
       "<p>114 rows × 114 columns</p>\n",
       "</div>"
      ],
      "text/plain": [
       "              ID    target        v1        v2        v4        v5        v6  \\\n",
       "ID      1.000000 -0.000080  0.002077  0.000492  0.000707 -0.002149  0.003294   \n",
       "target -0.000080  1.000000 -0.008114  0.036568  0.059842  0.022336  0.030610   \n",
       "v1      0.002077 -0.008114  1.000000 -0.213646 -0.141588 -0.067014 -0.015818   \n",
       "v2      0.000492  0.036568 -0.213646  1.000000  0.537830  0.203350  0.021973   \n",
       "v4      0.000707  0.059842 -0.141588  0.537830  1.000000  0.267454  0.374942   \n",
       "...          ...       ...       ...       ...       ...       ...       ...   \n",
       "v127   -0.001602  0.013986 -0.007216  0.009513  0.297471 -0.225271  0.152123   \n",
       "v128   -0.001285  0.034045 -0.031953  0.265314  0.493856  0.594856  0.232908   \n",
       "v129   -0.000249  0.142141 -0.023630  0.074373  0.104782  0.045227  0.044484   \n",
       "v130    0.000610 -0.046252  0.261638 -0.578621 -0.703486 -0.255003 -0.298505   \n",
       "v131    0.005567  0.027538  0.695383  0.176927  0.313984  0.147843  0.159817   \n",
       "\n",
       "              v7        v8        v9  ...      v121      v122      v123  \\\n",
       "ID      0.001049 -0.001218  0.005397  ... -0.001624  0.008248 -0.003393   \n",
       "target  0.033370 -0.011442 -0.012566  ... -0.044467  0.003251 -0.055940   \n",
       "v1      0.099846  0.154134 -0.021217  ...  0.354057 -0.129005  0.300573   \n",
       "v2      0.350390 -0.362706 -0.008776  ... -0.573112  0.169558 -0.592484   \n",
       "v4      0.475104 -0.164266 -0.210691  ... -0.618341  0.040576 -0.712460   \n",
       "...          ...       ...       ...  ...       ...       ...       ...   \n",
       "v127    0.240785 -0.014817  0.129053  ...  0.018757  0.102733 -0.160629   \n",
       "v128    0.092403  0.017531 -0.283054  ... -0.379941 -0.058556 -0.262807   \n",
       "v129    0.035459 -0.018412 -0.036520  ... -0.079153 -0.001913 -0.096211   \n",
       "v130   -0.618393  0.314398  0.085586  ...  0.809212 -0.189123  0.735182   \n",
       "v131    0.327402 -0.031654 -0.154365  ... -0.248308 -0.014827 -0.180707   \n",
       "\n",
       "            v124      v126      v127      v128      v129      v130      v131  \n",
       "ID     -0.000232 -0.002028 -0.001602 -0.001285 -0.000249  0.000610  0.005567  \n",
       "target -0.006770  0.000537  0.013986  0.034045  0.142141 -0.046252  0.027538  \n",
       "v1      0.149997  0.032009 -0.007216 -0.031953 -0.023630  0.261638  0.695383  \n",
       "v2     -0.256456 -0.103122  0.009513  0.265314  0.074373 -0.578621  0.176927  \n",
       "v4     -0.047883 -0.116638  0.297471  0.493856  0.104782 -0.703486  0.313984  \n",
       "...          ...       ...       ...       ...       ...       ...       ...  \n",
       "v127   -0.052160 -0.082246  1.000000 -0.158137  0.014739 -0.240912  0.068980  \n",
       "v128    0.265547 -0.140135 -0.158137  1.000000  0.057457 -0.296302  0.238871  \n",
       "v129   -0.007498 -0.015240  0.014739  0.057457  1.000000 -0.075207  0.031893  \n",
       "v130    0.221846  0.076327 -0.240912 -0.296302 -0.075207  1.000000 -0.267830  \n",
       "v131    0.029011 -0.025844  0.068980  0.238871  0.031893 -0.267830  1.000000  \n",
       "\n",
       "[114 rows x 114 columns]"
      ]
     },
     "execution_count": 6,
     "metadata": {},
     "output_type": "execute_result"
    }
   ],
   "source": [
    "train.corr()"
   ]
  },
  {
   "cell_type": "code",
   "execution_count": 7,
   "metadata": {},
   "outputs": [
    {
     "data": {
      "text/plain": [
       "<matplotlib.axes._subplots.AxesSubplot at 0x7f410b16d0f0>"
      ]
     },
     "execution_count": 7,
     "metadata": {},
     "output_type": "execute_result"
    },
    {
     "data": {
      "image/png": "[encoded data removed]",
      "text/plain": [
       "<Figure size 1152x1152 with 2 Axes>"
      ]
     },
     "metadata": {
      "needs_background": "light"
     },
     "output_type": "display_data"
    }
   ],
   "source": [
    "corrmat = train.corr()\n",
    "fig, ax = plt.subplots()\n",
    "fig.set_size_inches(16,16)\n",
    "sns.heatmap(corrmat)"
   ]
  },
  {
   "cell_type": "markdown",
   "metadata": {},
   "source": [
    "### We can see that there are few variable with correlation >0.8"
   ]
  },
  {
   "cell_type": "markdown",
   "metadata": {},
   "source": [
    "## Pre-processing"
   ]
  },
  {
   "cell_type": "markdown",
   "metadata": {},
   "source": [
    "Pre processing of data to make it model ready"
   ]
  },
  {
   "cell_type": "code",
   "execution_count": 13,
   "metadata": {},
   "outputs": [
    {
     "data": {
      "text/plain": [
       "ID          int64\n",
       "target      int64\n",
       "v1        float64\n",
       "v2        float64\n",
       "v3         object\n",
       "           ...   \n",
       "v127      float64\n",
       "v128      float64\n",
       "v129        int64\n",
       "v130      float64\n",
       "v131      float64\n",
       "Length: 133, dtype: object"
      ]
     },
     "execution_count": 13,
     "metadata": {},
     "output_type": "execute_result"
    }
   ],
   "source": [
    "# checking data types of different variable\n",
    "train.dtypes"
   ]
  },
  {
   "cell_type": "markdown",
   "metadata": {},
   "source": [
    "#### we can see there are some categorical which will require treatment"
   ]
  },
  {
   "cell_type": "code",
   "execution_count": 9,
   "metadata": {},
   "outputs": [
    {
     "data": {
      "text/plain": [
       "ID            0\n",
       "target        0\n",
       "v1        49832\n",
       "v2        49796\n",
       "v3         3457\n",
       "          ...  \n",
       "v127      49832\n",
       "v128      48624\n",
       "v129          0\n",
       "v130      49843\n",
       "v131      49895\n",
       "Length: 133, dtype: int64"
      ]
     },
     "execution_count": 9,
     "metadata": {},
     "output_type": "execute_result"
    }
   ],
   "source": [
    "#checking null value\n",
    "train.isnull().sum()"
   ]
  },
  {
   "cell_type": "markdown",
   "metadata": {},
   "source": [
    "#### There are some variable with missing value . So we have to do  missing value imputation"
   ]
  },
  {
   "cell_type": "code",
   "execution_count": 15,
   "metadata": {},
   "outputs": [],
   "source": [
    "for col in train.columns:\n",
    "    if train[col].dtype=='object':\n",
    "        train[col].fillna(train[col].mode()[0],inplace=True)"
   ]
  },
  {
   "cell_type": "code",
   "execution_count": 16,
   "metadata": {},
   "outputs": [],
   "source": [
    "for col in train.columns:\n",
    "    if train[col].dtype!='object':\n",
    "        train[col].fillna(train[col].mean(),inplace=True)"
   ]
  },
  {
   "cell_type": "markdown",
   "metadata": {},
   "source": [
    "### Taking care of categorical variable , doing label encoding"
   ]
  },
  {
   "cell_type": "code",
   "execution_count": 17,
   "metadata": {},
   "outputs": [],
   "source": [
    "from sklearn.preprocessing import LabelEncoder"
   ]
  },
  {
   "cell_type": "code",
   "execution_count": 18,
   "metadata": {},
   "outputs": [],
   "source": [
    "le=LabelEncoder()"
   ]
  },
  {
   "cell_type": "code",
   "execution_count": 19,
   "metadata": {},
   "outputs": [],
   "source": [
    "for col in train.columns:\n",
    "    if train[col].dtype=='object':\n",
    "        le.fit(train[col].values)\n",
    "        train[col]=le.transform(train[col])"
   ]
  },
  {
   "cell_type": "code",
   "execution_count": 20,
   "metadata": {},
   "outputs": [],
   "source": [
    "X=train.drop(['ID','target'],axis=1)\n",
    "y=train[['target']]"
   ]
  },
  {
   "cell_type": "markdown",
   "metadata": {},
   "source": [
    "## Analysis"
   ]
  },
  {
   "cell_type": "markdown",
   "metadata": {},
   "source": [
    "Splitting data into 70:30 for train and validation"
   ]
  },
  {
   "cell_type": "code",
   "execution_count": 21,
   "metadata": {},
   "outputs": [],
   "source": [
    "X_train, X_test, Y_train, Y_test = train_test_split(X, y, test_size=0.3,random_state=123)\n"
   ]
  },
  {
   "cell_type": "markdown",
   "metadata": {},
   "source": [
    "Building a baseline model for the performance comparison"
   ]
  },
  {
   "cell_type": "markdown",
   "metadata": {},
   "source": [
    "We are using AUC as a metric since in imbalanced problem AUC is the right metric to evaluate model performance"
   ]
  },
  {
   "cell_type": "code",
   "execution_count": 22,
   "metadata": {},
   "outputs": [
    {
     "name": "stdout",
     "output_type": "stream",
     "text": [
      "[0]\tvalidation_0-auc:0.713973\tvalidation_1-auc:0.711512\n",
      "[50]\tvalidation_0-auc:0.753105\tvalidation_1-auc:0.745047\n",
      "[100]\tvalidation_0-auc:0.766433\tvalidation_1-auc:0.749188\n",
      "[150]\tvalidation_0-auc:0.776875\tvalidation_1-auc:0.750489\n",
      "[199]\tvalidation_0-auc:0.786068\tvalidation_1-auc:0.751041\n"
     ]
    },
    {
     "data": {
      "text/plain": [
       "XGBClassifier(max_depth=4, n_estimators=200, seed=123)"
      ]
     },
     "execution_count": 22,
     "metadata": {},
     "output_type": "execute_result"
    }
   ],
   "source": [
    "xgb_model=XGBClassifier(max_depth=4, learning_rate=0.1, n_estimators=200,seed=123)\n",
    "xgb_model.fit(X_train,Y_train,eval_set=[(X_train,Y_train),(X_test,Y_test)],eval_metric=['auc'],verbose=50)"
   ]
  },
  {
   "cell_type": "markdown",
   "metadata": {},
   "source": [
    "#### Checking variable importance "
   ]
  },
  {
   "cell_type": "code",
   "execution_count": 23,
   "metadata": {},
   "outputs": [],
   "source": [
    "variable_imp=pd.DataFrame({'variable':X_train.columns,'imp':xgb_model.feature_importances_})\n",
    "variable_imp.sort_values('imp',ascending=False,inplace=True)\n",
    "variable_imp['percentile']=variable_imp['imp']*100/variable_imp.iloc[0,1]\n"
   ]
  },
  {
   "cell_type": "code",
   "execution_count": 24,
   "metadata": {},
   "outputs": [
    {
     "data": {
      "text/html": [
       "<div>\n",
       "<style scoped>\n",
       "    .dataframe tbody tr th:only-of-type {\n",
       "        vertical-align: middle;\n",
       "    }\n",
       "\n",
       "    .dataframe tbody tr th {\n",
       "        vertical-align: top;\n",
       "    }\n",
       "\n",
       "    .dataframe thead th {\n",
       "        text-align: right;\n",
       "    }\n",
       "</style>\n",
       "<table border=\"1\" class=\"dataframe\">\n",
       "  <thead>\n",
       "    <tr style=\"text-align: right;\">\n",
       "      <th></th>\n",
       "      <th>variable</th>\n",
       "      <th>imp</th>\n",
       "      <th>percentile</th>\n",
       "    </tr>\n",
       "  </thead>\n",
       "  <tbody>\n",
       "    <tr>\n",
       "      <th>30</th>\n",
       "      <td>v31</td>\n",
       "      <td>0.101652</td>\n",
       "      <td>100.000000</td>\n",
       "    </tr>\n",
       "    <tr>\n",
       "      <th>49</th>\n",
       "      <td>v50</td>\n",
       "      <td>0.094939</td>\n",
       "      <td>93.396133</td>\n",
       "    </tr>\n",
       "    <tr>\n",
       "      <th>46</th>\n",
       "      <td>v47</td>\n",
       "      <td>0.058589</td>\n",
       "      <td>57.637123</td>\n",
       "    </tr>\n",
       "    <tr>\n",
       "      <th>65</th>\n",
       "      <td>v66</td>\n",
       "      <td>0.042991</td>\n",
       "      <td>42.292385</td>\n",
       "    </tr>\n",
       "    <tr>\n",
       "      <th>128</th>\n",
       "      <td>v129</td>\n",
       "      <td>0.023260</td>\n",
       "      <td>22.881424</td>\n",
       "    </tr>\n",
       "    <tr>\n",
       "      <th>109</th>\n",
       "      <td>v110</td>\n",
       "      <td>0.019462</td>\n",
       "      <td>19.145634</td>\n",
       "    </tr>\n",
       "    <tr>\n",
       "      <th>37</th>\n",
       "      <td>v38</td>\n",
       "      <td>0.015187</td>\n",
       "      <td>14.939776</td>\n",
       "    </tr>\n",
       "    <tr>\n",
       "      <th>23</th>\n",
       "      <td>v24</td>\n",
       "      <td>0.013409</td>\n",
       "      <td>13.191084</td>\n",
       "    </tr>\n",
       "    <tr>\n",
       "      <th>39</th>\n",
       "      <td>v40</td>\n",
       "      <td>0.011778</td>\n",
       "      <td>11.586993</td>\n",
       "    </tr>\n",
       "    <tr>\n",
       "      <th>73</th>\n",
       "      <td>v74</td>\n",
       "      <td>0.010107</td>\n",
       "      <td>9.942458</td>\n",
       "    </tr>\n",
       "  </tbody>\n",
       "</table>\n",
       "</div>"
      ],
      "text/plain": [
       "    variable       imp  percentile\n",
       "30       v31  0.101652  100.000000\n",
       "49       v50  0.094939   93.396133\n",
       "46       v47  0.058589   57.637123\n",
       "65       v66  0.042991   42.292385\n",
       "128     v129  0.023260   22.881424\n",
       "109     v110  0.019462   19.145634\n",
       "37       v38  0.015187   14.939776\n",
       "23       v24  0.013409   13.191084\n",
       "39       v40  0.011778   11.586993\n",
       "73       v74  0.010107    9.942458"
      ]
     },
     "execution_count": 24,
     "metadata": {},
     "output_type": "execute_result"
    }
   ],
   "source": [
    "variable_imp.head(10)"
   ]
  },
  {
   "cell_type": "code",
   "execution_count": 25,
   "metadata": {},
   "outputs": [
    {
     "data": {
      "text/html": [
       "<div>\n",
       "<style scoped>\n",
       "    .dataframe tbody tr th:only-of-type {\n",
       "        vertical-align: middle;\n",
       "    }\n",
       "\n",
       "    .dataframe tbody tr th {\n",
       "        vertical-align: top;\n",
       "    }\n",
       "\n",
       "    .dataframe thead th {\n",
       "        text-align: right;\n",
       "    }\n",
       "</style>\n",
       "<table border=\"1\" class=\"dataframe\">\n",
       "  <thead>\n",
       "    <tr style=\"text-align: right;\">\n",
       "      <th></th>\n",
       "      <th>variable</th>\n",
       "      <th>imp</th>\n",
       "      <th>percentile</th>\n",
       "    </tr>\n",
       "  </thead>\n",
       "  <tbody>\n",
       "    <tr>\n",
       "      <th>21</th>\n",
       "      <td>v22</td>\n",
       "      <td>0.003540</td>\n",
       "      <td>3.482805</td>\n",
       "    </tr>\n",
       "    <tr>\n",
       "      <th>59</th>\n",
       "      <td>v60</td>\n",
       "      <td>0.003288</td>\n",
       "      <td>3.234428</td>\n",
       "    </tr>\n",
       "    <tr>\n",
       "      <th>64</th>\n",
       "      <td>v65</td>\n",
       "      <td>0.003222</td>\n",
       "      <td>3.169968</td>\n",
       "    </tr>\n",
       "    <tr>\n",
       "      <th>22</th>\n",
       "      <td>v23</td>\n",
       "      <td>0.003156</td>\n",
       "      <td>3.105018</td>\n",
       "    </tr>\n",
       "    <tr>\n",
       "      <th>29</th>\n",
       "      <td>v30</td>\n",
       "      <td>0.003048</td>\n",
       "      <td>2.998159</td>\n",
       "    </tr>\n",
       "    <tr>\n",
       "      <th>51</th>\n",
       "      <td>v52</td>\n",
       "      <td>0.002883</td>\n",
       "      <td>2.836267</td>\n",
       "    </tr>\n",
       "    <tr>\n",
       "      <th>1</th>\n",
       "      <td>v2</td>\n",
       "      <td>0.002815</td>\n",
       "      <td>2.769019</td>\n",
       "    </tr>\n",
       "    <tr>\n",
       "      <th>74</th>\n",
       "      <td>v75</td>\n",
       "      <td>0.002552</td>\n",
       "      <td>2.510395</td>\n",
       "    </tr>\n",
       "    <tr>\n",
       "      <th>90</th>\n",
       "      <td>v91</td>\n",
       "      <td>0.002472</td>\n",
       "      <td>2.431778</td>\n",
       "    </tr>\n",
       "    <tr>\n",
       "      <th>2</th>\n",
       "      <td>v3</td>\n",
       "      <td>0.001738</td>\n",
       "      <td>1.709312</td>\n",
       "    </tr>\n",
       "  </tbody>\n",
       "</table>\n",
       "</div>"
      ],
      "text/plain": [
       "   variable       imp  percentile\n",
       "21      v22  0.003540    3.482805\n",
       "59      v60  0.003288    3.234428\n",
       "64      v65  0.003222    3.169968\n",
       "22      v23  0.003156    3.105018\n",
       "29      v30  0.003048    2.998159\n",
       "51      v52  0.002883    2.836267\n",
       "1        v2  0.002815    2.769019\n",
       "74      v75  0.002552    2.510395\n",
       "90      v91  0.002472    2.431778\n",
       "2        v3  0.001738    1.709312"
      ]
     },
     "execution_count": 25,
     "metadata": {},
     "output_type": "execute_result"
    }
   ],
   "source": [
    "variable_imp.tail(10)"
   ]
  },
  {
   "cell_type": "markdown",
   "metadata": {},
   "source": [
    "## Removing correlated variable"
   ]
  },
  {
   "cell_type": "code",
   "execution_count": 27,
   "metadata": {},
   "outputs": [],
   "source": [
    "grouped_feature_ls = []\n",
    "correlated_groups = []\n",
    "\n",
    "def correlation(dataset, threshold):\n",
    "    col_corr = set()  # Set of all the names of correlated columns\n",
    "    corr_matrix = dataset.corr()\n",
    "    for i in range(len(corr_matrix.columns)):\n",
    "        for j in range(i):\n",
    "            if abs(corr_matrix.iloc[i, j]) > threshold: # we are interested in absolute coeff value\n",
    "                colname = corr_matrix.columns[i]  # getting the name of column\n",
    "                col_corr.add(colname)\n",
    "    return col_corr"
   ]
  },
  {
   "cell_type": "markdown",
   "metadata": {},
   "source": [
    "removing variable with correlation > 0.9"
   ]
  },
  {
   "cell_type": "code",
   "execution_count": 28,
   "metadata": {},
   "outputs": [],
   "source": [
    "corr_features = correlation(train, 0.9)"
   ]
  },
  {
   "cell_type": "code",
   "execution_count": 29,
   "metadata": {},
   "outputs": [],
   "source": [
    "correlated_features = set(corr_features)"
   ]
  },
  {
   "cell_type": "code",
   "execution_count": 30,
   "metadata": {
    "scrolled": true
   },
   "outputs": [
    {
     "data": {
      "text/plain": [
       "{'v100',\n",
       " 'v104',\n",
       " 'v105',\n",
       " 'v106',\n",
       " 'v111',\n",
       " 'v114',\n",
       " 'v115',\n",
       " 'v116',\n",
       " 'v118',\n",
       " 'v12',\n",
       " 'v121',\n",
       " 'v128',\n",
       " 'v25',\n",
       " 'v32',\n",
       " 'v40',\n",
       " 'v41',\n",
       " 'v43',\n",
       " 'v46',\n",
       " 'v48',\n",
       " 'v49',\n",
       " 'v53',\n",
       " 'v54',\n",
       " 'v55',\n",
       " 'v60',\n",
       " 'v63',\n",
       " 'v64',\n",
       " 'v65',\n",
       " 'v67',\n",
       " 'v68',\n",
       " 'v73',\n",
       " 'v75',\n",
       " 'v76',\n",
       " 'v77',\n",
       " 'v81',\n",
       " 'v83',\n",
       " 'v86',\n",
       " 'v89',\n",
       " 'v95',\n",
       " 'v96'}"
      ]
     },
     "execution_count": 30,
     "metadata": {},
     "output_type": "execute_result"
    }
   ],
   "source": [
    "correlated_features"
   ]
  },
  {
   "cell_type": "code",
   "execution_count": 31,
   "metadata": {},
   "outputs": [
    {
     "name": "stdout",
     "output_type": "stream",
     "text": [
      "39\n"
     ]
    }
   ],
   "source": [
    "print(len(correlated_features))"
   ]
  },
  {
   "cell_type": "code",
   "execution_count": 32,
   "metadata": {},
   "outputs": [],
   "source": [
    "# Dropping all the correlated features from the data\n",
    "X.drop(labels=correlated_features, axis=1, inplace=True)"
   ]
  },
  {
   "cell_type": "code",
   "execution_count": 33,
   "metadata": {},
   "outputs": [],
   "source": [
    "X_train, X_test, Y_train, Y_test = train_test_split(X, y, test_size=0.3,random_state=123)\n"
   ]
  },
  {
   "cell_type": "markdown",
   "metadata": {},
   "source": [
    "#### Checking performance"
   ]
  },
  {
   "cell_type": "code",
   "execution_count": 35,
   "metadata": {},
   "outputs": [
    {
     "name": "stdout",
     "output_type": "stream",
     "text": [
      "[0]\tvalidation_0-auc:0.714355\tvalidation_1-auc:0.71274\n",
      "[50]\tvalidation_0-auc:0.751881\tvalidation_1-auc:0.744253\n",
      "[100]\tvalidation_0-auc:0.765594\tvalidation_1-auc:0.7486\n",
      "[150]\tvalidation_0-auc:0.776314\tvalidation_1-auc:0.750478\n",
      "[199]\tvalidation_0-auc:0.784501\tvalidation_1-auc:0.751112\n"
     ]
    },
    {
     "data": {
      "text/plain": [
       "XGBClassifier(max_depth=4, n_estimators=200, seed=123)"
      ]
     },
     "execution_count": 35,
     "metadata": {},
     "output_type": "execute_result"
    }
   ],
   "source": [
    "xgb_model=XGBClassifier(max_depth=4, learning_rate=0.1, n_estimators=200,seed=123)\n",
    "xgb_model.fit(X_train,Y_train,eval_set=[(X_train,Y_train),(X_test,Y_test)],eval_metric=['auc'],verbose=50)"
   ]
  },
  {
   "cell_type": "markdown",
   "metadata": {},
   "source": [
    "#### checking variable importance"
   ]
  },
  {
   "cell_type": "code",
   "execution_count": 36,
   "metadata": {},
   "outputs": [],
   "source": [
    "variable_imp=pd.DataFrame({'variable':X_train.columns,'imp':xgb_model.feature_importances_})\n",
    "variable_imp.sort_values('imp',ascending=False,inplace=True)\n",
    "variable_imp['percentile']=variable_imp['imp']*100/variable_imp.iloc[0,1]\n"
   ]
  },
  {
   "cell_type": "code",
   "execution_count": 37,
   "metadata": {},
   "outputs": [
    {
     "data": {
      "text/html": [
       "<div>\n",
       "<style scoped>\n",
       "    .dataframe tbody tr th:only-of-type {\n",
       "        vertical-align: middle;\n",
       "    }\n",
       "\n",
       "    .dataframe tbody tr th {\n",
       "        vertical-align: top;\n",
       "    }\n",
       "\n",
       "    .dataframe thead th {\n",
       "        text-align: right;\n",
       "    }\n",
       "</style>\n",
       "<table border=\"1\" class=\"dataframe\">\n",
       "  <thead>\n",
       "    <tr style=\"text-align: right;\">\n",
       "      <th></th>\n",
       "      <th>variable</th>\n",
       "      <th>imp</th>\n",
       "      <th>percentile</th>\n",
       "    </tr>\n",
       "  </thead>\n",
       "  <tbody>\n",
       "    <tr>\n",
       "      <th>28</th>\n",
       "      <td>v31</td>\n",
       "      <td>0.128794</td>\n",
       "      <td>100.000000</td>\n",
       "    </tr>\n",
       "    <tr>\n",
       "      <th>40</th>\n",
       "      <td>v50</td>\n",
       "      <td>0.107907</td>\n",
       "      <td>83.782379</td>\n",
       "    </tr>\n",
       "    <tr>\n",
       "      <th>39</th>\n",
       "      <td>v47</td>\n",
       "      <td>0.075581</td>\n",
       "      <td>58.683376</td>\n",
       "    </tr>\n",
       "    <tr>\n",
       "      <th>49</th>\n",
       "      <td>v66</td>\n",
       "      <td>0.054763</td>\n",
       "      <td>42.519997</td>\n",
       "    </tr>\n",
       "    <tr>\n",
       "      <th>89</th>\n",
       "      <td>v129</td>\n",
       "      <td>0.023119</td>\n",
       "      <td>17.950085</td>\n",
       "    </tr>\n",
       "    <tr>\n",
       "      <th>77</th>\n",
       "      <td>v110</td>\n",
       "      <td>0.022735</td>\n",
       "      <td>17.651957</td>\n",
       "    </tr>\n",
       "    <tr>\n",
       "      <th>34</th>\n",
       "      <td>v38</td>\n",
       "      <td>0.022071</td>\n",
       "      <td>17.136862</td>\n",
       "    </tr>\n",
       "    <tr>\n",
       "      <th>22</th>\n",
       "      <td>v24</td>\n",
       "      <td>0.015412</td>\n",
       "      <td>11.966598</td>\n",
       "    </tr>\n",
       "    <tr>\n",
       "      <th>54</th>\n",
       "      <td>v74</td>\n",
       "      <td>0.012935</td>\n",
       "      <td>10.043496</td>\n",
       "    </tr>\n",
       "    <tr>\n",
       "      <th>56</th>\n",
       "      <td>v79</td>\n",
       "      <td>0.012564</td>\n",
       "      <td>9.755424</td>\n",
       "    </tr>\n",
       "  </tbody>\n",
       "</table>\n",
       "</div>"
      ],
      "text/plain": [
       "   variable       imp  percentile\n",
       "28      v31  0.128794  100.000000\n",
       "40      v50  0.107907   83.782379\n",
       "39      v47  0.075581   58.683376\n",
       "49      v66  0.054763   42.519997\n",
       "89     v129  0.023119   17.950085\n",
       "77     v110  0.022735   17.651957\n",
       "34      v38  0.022071   17.136862\n",
       "22      v24  0.015412   11.966598\n",
       "54      v74  0.012935   10.043496\n",
       "56      v79  0.012564    9.755424"
      ]
     },
     "execution_count": 37,
     "metadata": {},
     "output_type": "execute_result"
    }
   ],
   "source": [
    "variable_imp.head(10)"
   ]
  },
  {
   "cell_type": "code",
   "execution_count": 38,
   "metadata": {},
   "outputs": [
    {
     "data": {
      "text/html": [
       "<div>\n",
       "<style scoped>\n",
       "    .dataframe tbody tr th:only-of-type {\n",
       "        vertical-align: middle;\n",
       "    }\n",
       "\n",
       "    .dataframe tbody tr th {\n",
       "        vertical-align: top;\n",
       "    }\n",
       "\n",
       "    .dataframe thead th {\n",
       "        text-align: right;\n",
       "    }\n",
       "</style>\n",
       "<table border=\"1\" class=\"dataframe\">\n",
       "  <thead>\n",
       "    <tr style=\"text-align: right;\">\n",
       "      <th></th>\n",
       "      <th>variable</th>\n",
       "      <th>imp</th>\n",
       "      <th>percentile</th>\n",
       "    </tr>\n",
       "  </thead>\n",
       "  <tbody>\n",
       "    <tr>\n",
       "      <th>86</th>\n",
       "      <td>v125</td>\n",
       "      <td>0.004914</td>\n",
       "      <td>3.815506</td>\n",
       "    </tr>\n",
       "    <tr>\n",
       "      <th>27</th>\n",
       "      <td>v30</td>\n",
       "      <td>0.004856</td>\n",
       "      <td>3.770383</td>\n",
       "    </tr>\n",
       "    <tr>\n",
       "      <th>65</th>\n",
       "      <td>v92</td>\n",
       "      <td>0.004850</td>\n",
       "      <td>3.765587</td>\n",
       "    </tr>\n",
       "    <tr>\n",
       "      <th>21</th>\n",
       "      <td>v23</td>\n",
       "      <td>0.004842</td>\n",
       "      <td>3.759513</td>\n",
       "    </tr>\n",
       "    <tr>\n",
       "      <th>78</th>\n",
       "      <td>v112</td>\n",
       "      <td>0.004777</td>\n",
       "      <td>3.709169</td>\n",
       "    </tr>\n",
       "    <tr>\n",
       "      <th>36</th>\n",
       "      <td>v42</td>\n",
       "      <td>0.004695</td>\n",
       "      <td>3.645041</td>\n",
       "    </tr>\n",
       "    <tr>\n",
       "      <th>42</th>\n",
       "      <td>v52</td>\n",
       "      <td>0.004189</td>\n",
       "      <td>3.252334</td>\n",
       "    </tr>\n",
       "    <tr>\n",
       "      <th>64</th>\n",
       "      <td>v91</td>\n",
       "      <td>0.003833</td>\n",
       "      <td>2.975994</td>\n",
       "    </tr>\n",
       "    <tr>\n",
       "      <th>74</th>\n",
       "      <td>v107</td>\n",
       "      <td>0.003396</td>\n",
       "      <td>2.636678</td>\n",
       "    </tr>\n",
       "    <tr>\n",
       "      <th>2</th>\n",
       "      <td>v3</td>\n",
       "      <td>0.001986</td>\n",
       "      <td>1.542317</td>\n",
       "    </tr>\n",
       "  </tbody>\n",
       "</table>\n",
       "</div>"
      ],
      "text/plain": [
       "   variable       imp  percentile\n",
       "86     v125  0.004914    3.815506\n",
       "27      v30  0.004856    3.770383\n",
       "65      v92  0.004850    3.765587\n",
       "21      v23  0.004842    3.759513\n",
       "78     v112  0.004777    3.709169\n",
       "36      v42  0.004695    3.645041\n",
       "42      v52  0.004189    3.252334\n",
       "64      v91  0.003833    2.975994\n",
       "74     v107  0.003396    2.636678\n",
       "2        v3  0.001986    1.542317"
      ]
     },
     "execution_count": 38,
     "metadata": {},
     "output_type": "execute_result"
    }
   ],
   "source": [
    "variable_imp.tail(10)"
   ]
  },
  {
   "cell_type": "markdown",
   "metadata": {},
   "source": [
    "#### We can see that there is marginal increase in performance, implying that xgboost is not heavily impacted by removal of the correlated variable."
   ]
  },
  {
   "cell_type": "markdown",
   "metadata": {},
   "source": [
    "## ****** Thanks ******"
   ]
  },
  {
   "cell_type": "code",
   "execution_count": null,
   "metadata": {},
   "outputs": [],
   "source": []
  }
 ],
 "metadata": {
  "kernelspec": {
   "display_name": "Python 3",
   "language": "python",
   "name": "python3"
  }
 },
 "nbformat": 4,
 "nbformat_minor": 4
}
