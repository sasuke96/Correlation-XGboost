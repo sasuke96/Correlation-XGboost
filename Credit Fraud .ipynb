{
 "cells": [
  {
   "cell_type": "markdown",
   "metadata": {},
   "source": [
    "## Correlation in XGboost part 1"
   ]
  },
  {
   "cell_type": "markdown",
   "metadata": {},
   "source": [
    "The idea of this exercise is to figure out effect of correlated variable on the model performance of xgboost"
   ]
  },
  {
   "cell_type": "markdown",
   "metadata": {},
   "source": [
    "For this we are using credit fraud data from kaggle"
   ]
  },
  {
   "cell_type": "markdown",
   "metadata": {},
   "source": [
    "In this exercise we will introduce different kind of correlated variable to see the impact on xgboost"
   ]
  },
  {
   "cell_type": "code",
   "execution_count": 1,
   "metadata": {},
   "outputs": [],
   "source": [
    "#importing required library\n",
    "import pandas as pd\n",
    "import numpy as np\n",
    "import pickle\n",
    "from sklearn.model_selection import train_test_split\n",
    "from xgboost.sklearn import XGBClassifier\n",
    "import random"
   ]
  },
  {
   "cell_type": "markdown",
   "metadata": {},
   "source": [
    "### Pre Processing Part"
   ]
  },
  {
   "cell_type": "code",
   "execution_count": 2,
   "metadata": {},
   "outputs": [],
   "source": [
    "training=pd.read_csv(\".../creditcard.csv\")"
   ]
  },
  {
   "cell_type": "code",
   "execution_count": 3,
   "metadata": {
    "scrolled": true
   },
   "outputs": [
    {
     "name": "stdout",
     "output_type": "stream",
     "text": [
      "<class 'pandas.core.frame.DataFrame'>\n",
      "RangeIndex: 284807 entries, 0 to 284806\n",
      "Data columns (total 31 columns):\n",
      "Time      284807 non-null float64\n",
      "V1        284807 non-null float64\n",
      "V2        284807 non-null float64\n",
      "V3        284807 non-null float64\n",
      "V4        284807 non-null float64\n",
      "V5        284807 non-null float64\n",
      "V6        284807 non-null float64\n",
      "V7        284807 non-null float64\n",
      "V8        284807 non-null float64\n",
      "V9        284807 non-null float64\n",
      "V10       284807 non-null float64\n",
      "V11       284807 non-null float64\n",
      "V12       284807 non-null float64\n",
      "V13       284807 non-null float64\n",
      "V14       284807 non-null float64\n",
      "V15       284807 non-null float64\n",
      "V16       284807 non-null float64\n",
      "V17       284807 non-null float64\n",
      "V18       284807 non-null float64\n",
      "V19       284807 non-null float64\n",
      "V20       284807 non-null float64\n",
      "V21       284807 non-null float64\n",
      "V22       284807 non-null float64\n",
      "V23       284807 non-null float64\n",
      "V24       284807 non-null float64\n",
      "V25       284807 non-null float64\n",
      "V26       284807 non-null float64\n",
      "V27       284807 non-null float64\n",
      "V28       284807 non-null float64\n",
      "Amount    284807 non-null float64\n",
      "Class     284807 non-null int64\n",
      "dtypes: float64(30), int64(1)\n",
      "memory usage: 67.4 MB\n"
     ]
    }
   ],
   "source": [
    "#checking for dtype\n",
    "training.info()\n"
   ]
  },
  {
   "cell_type": "markdown",
   "metadata": {},
   "source": [
    "This shows that there is no categorical variable"
   ]
  },
  {
   "cell_type": "code",
   "execution_count": 4,
   "metadata": {},
   "outputs": [
    {
     "data": {
      "text/html": [
       "<div>\n",
       "<style scoped>\n",
       "    .dataframe tbody tr th:only-of-type {\n",
       "        vertical-align: middle;\n",
       "    }\n",
       "\n",
       "    .dataframe tbody tr th {\n",
       "        vertical-align: top;\n",
       "    }\n",
       "\n",
       "    .dataframe thead th {\n",
       "        text-align: right;\n",
       "    }\n",
       "</style>\n",
       "<table border=\"1\" class=\"dataframe\">\n",
       "  <thead>\n",
       "    <tr style=\"text-align: right;\">\n",
       "      <th></th>\n",
       "      <th>Class</th>\n",
       "      <th>percentage</th>\n",
       "    </tr>\n",
       "  </thead>\n",
       "  <tbody>\n",
       "    <tr>\n",
       "      <th>0</th>\n",
       "      <td>284315</td>\n",
       "      <td>99.83</td>\n",
       "    </tr>\n",
       "    <tr>\n",
       "      <th>1</th>\n",
       "      <td>492</td>\n",
       "      <td>0.17</td>\n",
       "    </tr>\n",
       "  </tbody>\n",
       "</table>\n",
       "</div>"
      ],
      "text/plain": [
       "    Class  percentage\n",
       "0  284315       99.83\n",
       "1     492        0.17"
      ]
     },
     "execution_count": 4,
     "metadata": {},
     "output_type": "execute_result"
    }
   ],
   "source": [
    "#checking for class imbalance\n",
    "imbalance=training['Class'].value_counts().to_frame()\n",
    "imbalance['percentage']=imbalance['Class'].apply(lambda x : round(x*100/len(training),2))\n",
    "imbalance"
   ]
  },
  {
   "cell_type": "code",
   "execution_count": 6,
   "metadata": {
    "scrolled": true
   },
   "outputs": [
    {
     "data": {
      "text/plain": [
       "Time      0\n",
       "V1        0\n",
       "V2        0\n",
       "V3        0\n",
       "V4        0\n",
       "V5        0\n",
       "V6        0\n",
       "V7        0\n",
       "V8        0\n",
       "V9        0\n",
       "V10       0\n",
       "V11       0\n",
       "V12       0\n",
       "V13       0\n",
       "V14       0\n",
       "V15       0\n",
       "V16       0\n",
       "V17       0\n",
       "V18       0\n",
       "V19       0\n",
       "V20       0\n",
       "V21       0\n",
       "V22       0\n",
       "V23       0\n",
       "V24       0\n",
       "V25       0\n",
       "V26       0\n",
       "V27       0\n",
       "V28       0\n",
       "Amount    0\n",
       "Class     0\n",
       "dtype: int64"
      ]
     },
     "execution_count": 6,
     "metadata": {},
     "output_type": "execute_result"
    }
   ],
   "source": [
    "#checking null values to see if there is any null value\n",
    "\n",
    "training.isnull().sum()"
   ]
  },
  {
   "cell_type": "code",
   "execution_count": 7,
   "metadata": {},
   "outputs": [],
   "source": [
    "# Since most of our data has already been scaled we should scale the columns that are left to scale (Amount and Time)\n",
    "from sklearn.preprocessing import StandardScaler, RobustScaler"
   ]
  },
  {
   "cell_type": "code",
   "execution_count": 8,
   "metadata": {},
   "outputs": [],
   "source": [
    "# RobustScaler is less prone to outliers.\n",
    "\n",
    "std_scaler = StandardScaler()\n",
    "rob_scaler = RobustScaler()"
   ]
  },
  {
   "cell_type": "code",
   "execution_count": 9,
   "metadata": {},
   "outputs": [],
   "source": [
    "training['scaled_amount'] = rob_scaler.fit_transform(training['Amount'].values.reshape(-1,1))\n",
    "training['scaled_time'] = rob_scaler.fit_transform(training['Time'].values.reshape(-1,1))\n",
    "\n",
    "training.drop(['Time','Amount'], axis=1, inplace=True)\n"
   ]
  },
  {
   "cell_type": "code",
   "execution_count": null,
   "metadata": {},
   "outputs": [],
   "source": [
    "### Saving file for the future use\n",
    "import pickle\n",
    "\n",
    "training.to_pickle('..../cleaned_data')"
   ]
  },
  {
   "cell_type": "markdown",
   "metadata": {},
   "source": [
    "### Analysis"
   ]
  },
  {
   "cell_type": "code",
   "execution_count": 10,
   "metadata": {},
   "outputs": [],
   "source": [
    "#reading data\n",
    "df = pd.read_pickle('.../cleaned_data')\n",
    "\n",
    "X=df.drop(['Class'],axis=1)\n",
    "y=df[['Class']]\n"
   ]
  },
  {
   "cell_type": "markdown",
   "metadata": {},
   "source": [
    "Splitting data into 70:30 for train and validation"
   ]
  },
  {
   "cell_type": "code",
   "execution_count": 11,
   "metadata": {},
   "outputs": [],
   "source": [
    "X_train, X_test, Y_train, Y_test = train_test_split(X, y, test_size=0.3,random_state=123)\n"
   ]
  },
  {
   "cell_type": "markdown",
   "metadata": {},
   "source": [
    "Building a baseline model for the performance comparison"
   ]
  },
  {
   "cell_type": "markdown",
   "metadata": {},
   "source": [
    "We are using AUC as a metric since in imbalanced problem AUC is the right metric to evaluate model performance"
   ]
  },
  {
   "cell_type": "code",
   "execution_count": 12,
   "metadata": {},
   "outputs": [
    {
     "name": "stdout",
     "output_type": "stream",
     "text": [
      "[0]\tvalidation_0-auc:0.903496\tvalidation_1-auc:0.88731\n",
      "[25]\tvalidation_0-auc:0.924528\tvalidation_1-auc:0.924792\n",
      "[50]\tvalidation_0-auc:0.974737\tvalidation_1-auc:0.957822\n",
      "[75]\tvalidation_0-auc:0.992318\tvalidation_1-auc:0.975396\n",
      "[100]\tvalidation_0-auc:0.996477\tvalidation_1-auc:0.979231\n",
      "[124]\tvalidation_0-auc:0.997853\tvalidation_1-auc:0.98187\n"
     ]
    },
    {
     "data": {
      "text/plain": [
       "XGBClassifier(n_estimators=125, seed=123)"
      ]
     },
     "execution_count": 12,
     "metadata": {},
     "output_type": "execute_result"
    }
   ],
   "source": [
    "xgb_model=XGBClassifier(max_depth=3, learning_rate=0.1, n_estimators=125,seed=123)\n",
    "xgb_model.fit(X_train,Y_train,eval_set=[(X_train,Y_train),(X_test,Y_test)],eval_metric=['auc'],verbose=25)"
   ]
  },
  {
   "cell_type": "markdown",
   "metadata": {},
   "source": [
    "#### Checking Variable Importance"
   ]
  },
  {
   "cell_type": "code",
   "execution_count": 13,
   "metadata": {
    "scrolled": true
   },
   "outputs": [
    {
     "data": {
      "text/html": [
       "<div>\n",
       "<style scoped>\n",
       "    .dataframe tbody tr th:only-of-type {\n",
       "        vertical-align: middle;\n",
       "    }\n",
       "\n",
       "    .dataframe tbody tr th {\n",
       "        vertical-align: top;\n",
       "    }\n",
       "\n",
       "    .dataframe thead th {\n",
       "        text-align: right;\n",
       "    }\n",
       "</style>\n",
       "<table border=\"1\" class=\"dataframe\">\n",
       "  <thead>\n",
       "    <tr style=\"text-align: right;\">\n",
       "      <th></th>\n",
       "      <th>variable</th>\n",
       "      <th>imp</th>\n",
       "      <th>percentile</th>\n",
       "    </tr>\n",
       "  </thead>\n",
       "  <tbody>\n",
       "    <tr>\n",
       "      <th>16</th>\n",
       "      <td>V17</td>\n",
       "      <td>0.312298</td>\n",
       "      <td>100.000000</td>\n",
       "    </tr>\n",
       "    <tr>\n",
       "      <th>13</th>\n",
       "      <td>V14</td>\n",
       "      <td>0.086580</td>\n",
       "      <td>27.723635</td>\n",
       "    </tr>\n",
       "    <tr>\n",
       "      <th>6</th>\n",
       "      <td>V7</td>\n",
       "      <td>0.055855</td>\n",
       "      <td>17.885256</td>\n",
       "    </tr>\n",
       "    <tr>\n",
       "      <th>9</th>\n",
       "      <td>V10</td>\n",
       "      <td>0.050032</td>\n",
       "      <td>16.020731</td>\n",
       "    </tr>\n",
       "    <tr>\n",
       "      <th>25</th>\n",
       "      <td>V26</td>\n",
       "      <td>0.031942</td>\n",
       "      <td>10.228127</td>\n",
       "    </tr>\n",
       "    <tr>\n",
       "      <th>3</th>\n",
       "      <td>V4</td>\n",
       "      <td>0.031279</td>\n",
       "      <td>10.015796</td>\n",
       "    </tr>\n",
       "    <tr>\n",
       "      <th>26</th>\n",
       "      <td>V27</td>\n",
       "      <td>0.030674</td>\n",
       "      <td>9.822069</td>\n",
       "    </tr>\n",
       "    <tr>\n",
       "      <th>11</th>\n",
       "      <td>V12</td>\n",
       "      <td>0.028334</td>\n",
       "      <td>9.072720</td>\n",
       "    </tr>\n",
       "    <tr>\n",
       "      <th>20</th>\n",
       "      <td>V21</td>\n",
       "      <td>0.021607</td>\n",
       "      <td>6.918778</td>\n",
       "    </tr>\n",
       "    <tr>\n",
       "      <th>27</th>\n",
       "      <td>V28</td>\n",
       "      <td>0.021545</td>\n",
       "      <td>6.898793</td>\n",
       "    </tr>\n",
       "    <tr>\n",
       "      <th>2</th>\n",
       "      <td>V3</td>\n",
       "      <td>0.020685</td>\n",
       "      <td>6.623447</td>\n",
       "    </tr>\n",
       "    <tr>\n",
       "      <th>1</th>\n",
       "      <td>V2</td>\n",
       "      <td>0.020509</td>\n",
       "      <td>6.567059</td>\n",
       "    </tr>\n",
       "    <tr>\n",
       "      <th>19</th>\n",
       "      <td>V20</td>\n",
       "      <td>0.020228</td>\n",
       "      <td>6.477230</td>\n",
       "    </tr>\n",
       "    <tr>\n",
       "      <th>5</th>\n",
       "      <td>V6</td>\n",
       "      <td>0.019881</td>\n",
       "      <td>6.366015</td>\n",
       "    </tr>\n",
       "    <tr>\n",
       "      <th>7</th>\n",
       "      <td>V8</td>\n",
       "      <td>0.019739</td>\n",
       "      <td>6.320465</td>\n",
       "    </tr>\n",
       "    <tr>\n",
       "      <th>10</th>\n",
       "      <td>V11</td>\n",
       "      <td>0.018392</td>\n",
       "      <td>5.889172</td>\n",
       "    </tr>\n",
       "    <tr>\n",
       "      <th>24</th>\n",
       "      <td>V25</td>\n",
       "      <td>0.017683</td>\n",
       "      <td>5.662165</td>\n",
       "    </tr>\n",
       "    <tr>\n",
       "      <th>12</th>\n",
       "      <td>V13</td>\n",
       "      <td>0.017330</td>\n",
       "      <td>5.549345</td>\n",
       "    </tr>\n",
       "    <tr>\n",
       "      <th>23</th>\n",
       "      <td>V24</td>\n",
       "      <td>0.016762</td>\n",
       "      <td>5.367278</td>\n",
       "    </tr>\n",
       "    <tr>\n",
       "      <th>14</th>\n",
       "      <td>V15</td>\n",
       "      <td>0.016562</td>\n",
       "      <td>5.303131</td>\n",
       "    </tr>\n",
       "    <tr>\n",
       "      <th>29</th>\n",
       "      <td>scaled_time</td>\n",
       "      <td>0.016257</td>\n",
       "      <td>5.205563</td>\n",
       "    </tr>\n",
       "    <tr>\n",
       "      <th>8</th>\n",
       "      <td>V9</td>\n",
       "      <td>0.016114</td>\n",
       "      <td>5.159705</td>\n",
       "    </tr>\n",
       "    <tr>\n",
       "      <th>4</th>\n",
       "      <td>V5</td>\n",
       "      <td>0.015977</td>\n",
       "      <td>5.115854</td>\n",
       "    </tr>\n",
       "    <tr>\n",
       "      <th>28</th>\n",
       "      <td>scaled_amount</td>\n",
       "      <td>0.015308</td>\n",
       "      <td>4.901874</td>\n",
       "    </tr>\n",
       "    <tr>\n",
       "      <th>17</th>\n",
       "      <td>V18</td>\n",
       "      <td>0.015256</td>\n",
       "      <td>4.885098</td>\n",
       "    </tr>\n",
       "    <tr>\n",
       "      <th>15</th>\n",
       "      <td>V16</td>\n",
       "      <td>0.014522</td>\n",
       "      <td>4.650180</td>\n",
       "    </tr>\n",
       "    <tr>\n",
       "      <th>21</th>\n",
       "      <td>V22</td>\n",
       "      <td>0.014339</td>\n",
       "      <td>4.591552</td>\n",
       "    </tr>\n",
       "    <tr>\n",
       "      <th>0</th>\n",
       "      <td>V1</td>\n",
       "      <td>0.012375</td>\n",
       "      <td>3.962445</td>\n",
       "    </tr>\n",
       "    <tr>\n",
       "      <th>22</th>\n",
       "      <td>V23</td>\n",
       "      <td>0.011037</td>\n",
       "      <td>3.534229</td>\n",
       "    </tr>\n",
       "    <tr>\n",
       "      <th>18</th>\n",
       "      <td>V19</td>\n",
       "      <td>0.010897</td>\n",
       "      <td>3.489316</td>\n",
       "    </tr>\n",
       "  </tbody>\n",
       "</table>\n",
       "</div>"
      ],
      "text/plain": [
       "         variable       imp  percentile\n",
       "16            V17  0.312298  100.000000\n",
       "13            V14  0.086580   27.723635\n",
       "6              V7  0.055855   17.885256\n",
       "9             V10  0.050032   16.020731\n",
       "25            V26  0.031942   10.228127\n",
       "3              V4  0.031279   10.015796\n",
       "26            V27  0.030674    9.822069\n",
       "11            V12  0.028334    9.072720\n",
       "20            V21  0.021607    6.918778\n",
       "27            V28  0.021545    6.898793\n",
       "2              V3  0.020685    6.623447\n",
       "1              V2  0.020509    6.567059\n",
       "19            V20  0.020228    6.477230\n",
       "5              V6  0.019881    6.366015\n",
       "7              V8  0.019739    6.320465\n",
       "10            V11  0.018392    5.889172\n",
       "24            V25  0.017683    5.662165\n",
       "12            V13  0.017330    5.549345\n",
       "23            V24  0.016762    5.367278\n",
       "14            V15  0.016562    5.303131\n",
       "29    scaled_time  0.016257    5.205563\n",
       "8              V9  0.016114    5.159705\n",
       "4              V5  0.015977    5.115854\n",
       "28  scaled_amount  0.015308    4.901874\n",
       "17            V18  0.015256    4.885098\n",
       "15            V16  0.014522    4.650180\n",
       "21            V22  0.014339    4.591552\n",
       "0              V1  0.012375    3.962445\n",
       "22            V23  0.011037    3.534229\n",
       "18            V19  0.010897    3.489316"
      ]
     },
     "execution_count": 13,
     "metadata": {},
     "output_type": "execute_result"
    }
   ],
   "source": [
    "variable_imp=pd.DataFrame({'variable':X_train.columns,'imp':xgb_model.feature_importances_})\n",
    "variable_imp.sort_values('imp',ascending=False,inplace=True)\n",
    "variable_imp['percentile']=variable_imp['imp']*100/variable_imp.iloc[0,1]\n",
    "variable_imp"
   ]
  },
  {
   "cell_type": "markdown",
   "metadata": {},
   "source": [
    "### Introducting perfectly  correlated variable with top variable"
   ]
  },
  {
   "cell_type": "code",
   "execution_count": 14,
   "metadata": {},
   "outputs": [],
   "source": [
    "#linear combination will be perfectly correlated with the original variable\n",
    "X_train['new_var']=3*X_train['V17']+5\n",
    "X_test['new_var']=3*X_test['V17']+5"
   ]
  },
  {
   "cell_type": "code",
   "execution_count": 15,
   "metadata": {},
   "outputs": [
    {
     "name": "stdout",
     "output_type": "stream",
     "text": [
      "[0]\tvalidation_0-auc:0.903496\tvalidation_1-auc:0.88731\n",
      "[25]\tvalidation_0-auc:0.924528\tvalidation_1-auc:0.924792\n",
      "[50]\tvalidation_0-auc:0.974737\tvalidation_1-auc:0.957822\n",
      "[75]\tvalidation_0-auc:0.992318\tvalidation_1-auc:0.975396\n",
      "[100]\tvalidation_0-auc:0.996477\tvalidation_1-auc:0.979231\n",
      "[124]\tvalidation_0-auc:0.997853\tvalidation_1-auc:0.98187\n"
     ]
    },
    {
     "data": {
      "text/plain": [
       "XGBClassifier(n_estimators=125, seed=123)"
      ]
     },
     "execution_count": 15,
     "metadata": {},
     "output_type": "execute_result"
    }
   ],
   "source": [
    "xgb_model=XGBClassifier(max_depth=3, learning_rate=0.1, n_estimators=125,seed=123)\n",
    "xgb_model.fit(X_train,Y_train,eval_set=[(X_train,Y_train),(X_test,Y_test)],eval_metric=['auc'],verbose=25)"
   ]
  },
  {
   "cell_type": "markdown",
   "metadata": {},
   "source": [
    "#### We can see that there is not impact in model performance due to inclusion of perfectly correlated variable"
   ]
  },
  {
   "cell_type": "markdown",
   "metadata": {},
   "source": [
    "Now let's check the impact on model importance"
   ]
  },
  {
   "cell_type": "code",
   "execution_count": 16,
   "metadata": {
    "scrolled": true
   },
   "outputs": [],
   "source": [
    "variable_imp=pd.DataFrame({'variable':X_train.columns,'imp':xgb_model.feature_importances_})\n",
    "variable_imp.sort_values('imp',ascending=False,inplace=True)\n",
    "variable_imp['percentile']=variable_imp['imp']*100/variable_imp.iloc[0,1]\n"
   ]
  },
  {
   "cell_type": "code",
   "execution_count": 17,
   "metadata": {},
   "outputs": [
    {
     "data": {
      "text/html": [
       "<div>\n",
       "<style scoped>\n",
       "    .dataframe tbody tr th:only-of-type {\n",
       "        vertical-align: middle;\n",
       "    }\n",
       "\n",
       "    .dataframe tbody tr th {\n",
       "        vertical-align: top;\n",
       "    }\n",
       "\n",
       "    .dataframe thead th {\n",
       "        text-align: right;\n",
       "    }\n",
       "</style>\n",
       "<table border=\"1\" class=\"dataframe\">\n",
       "  <thead>\n",
       "    <tr style=\"text-align: right;\">\n",
       "      <th></th>\n",
       "      <th>variable</th>\n",
       "      <th>imp</th>\n",
       "      <th>percentile</th>\n",
       "    </tr>\n",
       "  </thead>\n",
       "  <tbody>\n",
       "    <tr>\n",
       "      <th>16</th>\n",
       "      <td>V17</td>\n",
       "      <td>0.312298</td>\n",
       "      <td>100.000000</td>\n",
       "    </tr>\n",
       "    <tr>\n",
       "      <th>13</th>\n",
       "      <td>V14</td>\n",
       "      <td>0.086580</td>\n",
       "      <td>27.723635</td>\n",
       "    </tr>\n",
       "    <tr>\n",
       "      <th>6</th>\n",
       "      <td>V7</td>\n",
       "      <td>0.055855</td>\n",
       "      <td>17.885256</td>\n",
       "    </tr>\n",
       "    <tr>\n",
       "      <th>9</th>\n",
       "      <td>V10</td>\n",
       "      <td>0.050032</td>\n",
       "      <td>16.020731</td>\n",
       "    </tr>\n",
       "    <tr>\n",
       "      <th>25</th>\n",
       "      <td>V26</td>\n",
       "      <td>0.031942</td>\n",
       "      <td>10.228127</td>\n",
       "    </tr>\n",
       "    <tr>\n",
       "      <th>3</th>\n",
       "      <td>V4</td>\n",
       "      <td>0.031279</td>\n",
       "      <td>10.015796</td>\n",
       "    </tr>\n",
       "    <tr>\n",
       "      <th>26</th>\n",
       "      <td>V27</td>\n",
       "      <td>0.030674</td>\n",
       "      <td>9.822069</td>\n",
       "    </tr>\n",
       "    <tr>\n",
       "      <th>11</th>\n",
       "      <td>V12</td>\n",
       "      <td>0.028334</td>\n",
       "      <td>9.072720</td>\n",
       "    </tr>\n",
       "    <tr>\n",
       "      <th>20</th>\n",
       "      <td>V21</td>\n",
       "      <td>0.021607</td>\n",
       "      <td>6.918778</td>\n",
       "    </tr>\n",
       "    <tr>\n",
       "      <th>27</th>\n",
       "      <td>V28</td>\n",
       "      <td>0.021545</td>\n",
       "      <td>6.898793</td>\n",
       "    </tr>\n",
       "  </tbody>\n",
       "</table>\n",
       "</div>"
      ],
      "text/plain": [
       "   variable       imp  percentile\n",
       "16      V17  0.312298  100.000000\n",
       "13      V14  0.086580   27.723635\n",
       "6        V7  0.055855   17.885256\n",
       "9       V10  0.050032   16.020731\n",
       "25      V26  0.031942   10.228127\n",
       "3        V4  0.031279   10.015796\n",
       "26      V27  0.030674    9.822069\n",
       "11      V12  0.028334    9.072720\n",
       "20      V21  0.021607    6.918778\n",
       "27      V28  0.021545    6.898793"
      ]
     },
     "execution_count": 17,
     "metadata": {},
     "output_type": "execute_result"
    }
   ],
   "source": [
    "variable_imp.head(10)"
   ]
  },
  {
   "cell_type": "code",
   "execution_count": 16,
   "metadata": {},
   "outputs": [
    {
     "data": {
      "text/html": [
       "<div>\n",
       "<style scoped>\n",
       "    .dataframe tbody tr th:only-of-type {\n",
       "        vertical-align: middle;\n",
       "    }\n",
       "\n",
       "    .dataframe tbody tr th {\n",
       "        vertical-align: top;\n",
       "    }\n",
       "\n",
       "    .dataframe thead th {\n",
       "        text-align: right;\n",
       "    }\n",
       "</style>\n",
       "<table border=\"1\" class=\"dataframe\">\n",
       "  <thead>\n",
       "    <tr style=\"text-align: right;\">\n",
       "      <th></th>\n",
       "      <th>variable</th>\n",
       "      <th>imp</th>\n",
       "      <th>percentile</th>\n",
       "    </tr>\n",
       "  </thead>\n",
       "  <tbody>\n",
       "    <tr>\n",
       "      <th>8</th>\n",
       "      <td>V9</td>\n",
       "      <td>0.016114</td>\n",
       "      <td>5.159705</td>\n",
       "    </tr>\n",
       "    <tr>\n",
       "      <th>4</th>\n",
       "      <td>V5</td>\n",
       "      <td>0.015977</td>\n",
       "      <td>5.115854</td>\n",
       "    </tr>\n",
       "    <tr>\n",
       "      <th>28</th>\n",
       "      <td>scaled_amount</td>\n",
       "      <td>0.015308</td>\n",
       "      <td>4.901874</td>\n",
       "    </tr>\n",
       "    <tr>\n",
       "      <th>17</th>\n",
       "      <td>V18</td>\n",
       "      <td>0.015256</td>\n",
       "      <td>4.885098</td>\n",
       "    </tr>\n",
       "    <tr>\n",
       "      <th>15</th>\n",
       "      <td>V16</td>\n",
       "      <td>0.014522</td>\n",
       "      <td>4.650180</td>\n",
       "    </tr>\n",
       "    <tr>\n",
       "      <th>21</th>\n",
       "      <td>V22</td>\n",
       "      <td>0.014339</td>\n",
       "      <td>4.591552</td>\n",
       "    </tr>\n",
       "    <tr>\n",
       "      <th>0</th>\n",
       "      <td>V1</td>\n",
       "      <td>0.012375</td>\n",
       "      <td>3.962445</td>\n",
       "    </tr>\n",
       "    <tr>\n",
       "      <th>22</th>\n",
       "      <td>V23</td>\n",
       "      <td>0.011037</td>\n",
       "      <td>3.534229</td>\n",
       "    </tr>\n",
       "    <tr>\n",
       "      <th>18</th>\n",
       "      <td>V19</td>\n",
       "      <td>0.010897</td>\n",
       "      <td>3.489316</td>\n",
       "    </tr>\n",
       "    <tr>\n",
       "      <th>30</th>\n",
       "      <td>new_var</td>\n",
       "      <td>0.000000</td>\n",
       "      <td>0.000000</td>\n",
       "    </tr>\n",
       "  </tbody>\n",
       "</table>\n",
       "</div>"
      ],
      "text/plain": [
       "         variable       imp  percentile\n",
       "8              V9  0.016114    5.159705\n",
       "4              V5  0.015977    5.115854\n",
       "28  scaled_amount  0.015308    4.901874\n",
       "17            V18  0.015256    4.885098\n",
       "15            V16  0.014522    4.650180\n",
       "21            V22  0.014339    4.591552\n",
       "0              V1  0.012375    3.962445\n",
       "22            V23  0.011037    3.534229\n",
       "18            V19  0.010897    3.489316\n",
       "30        new_var  0.000000    0.000000"
      ]
     },
     "execution_count": 16,
     "metadata": {},
     "output_type": "execute_result"
    }
   ],
   "source": [
    "variable_imp.tail(10)"
   ]
  },
  {
   "cell_type": "markdown",
   "metadata": {},
   "source": [
    "We can see that new_var (perfectly correlated variable) has 0 variable importance implying no effect on xgboost model"
   ]
  },
  {
   "cell_type": "markdown",
   "metadata": {},
   "source": [
    "**********************************************************************************************************************"
   ]
  },
  {
   "cell_type": "markdown",
   "metadata": {},
   "source": [
    "#### Now let's introduce partially correlated variable with correlation between 0.95 and 0.99"
   ]
  },
  {
   "cell_type": "code",
   "execution_count": null,
   "metadata": {},
   "outputs": [],
   "source": [
    "# Introducing partially correlated variable"
   ]
  },
  {
   "cell_type": "code",
   "execution_count": 42,
   "metadata": {},
   "outputs": [
    {
     "data": {
      "text/plain": [
       "count    199364.000000\n",
       "mean          0.001134\n",
       "std           0.845466\n",
       "min         -25.162799\n",
       "25%          -0.483786\n",
       "50%          -0.065029\n",
       "75%           0.400892\n",
       "max           9.253526\n",
       "Name: V17, dtype: float64"
      ]
     },
     "execution_count": 42,
     "metadata": {},
     "output_type": "execute_result"
    }
   ],
   "source": [
    "#To understand the distribution of the variable so as to to create the partially correlated variable\n",
    "X_train['V17'].describe()"
   ]
  },
  {
   "cell_type": "code",
   "execution_count": 43,
   "metadata": {},
   "outputs": [],
   "source": [
    "X_train['new_var_V17']=X_train['V17'].apply(lambda x:x+random.uniform(-0.5,-0.05))\n",
    "X_test['new_var_V17']=X_test['V17'].apply(lambda x:x+random.uniform(-0.5,-0.05))\n"
   ]
  },
  {
   "cell_type": "code",
   "execution_count": 44,
   "metadata": {
    "scrolled": true
   },
   "outputs": [
    {
     "data": {
      "text/plain": [
       "V1              -0.003546\n",
       "V2               0.002895\n",
       "V3              -0.005260\n",
       "V4               0.003783\n",
       "V5              -0.003252\n",
       "V6              -0.001976\n",
       "V7              -0.006979\n",
       "V8               0.000958\n",
       "V9              -0.003132\n",
       "V10             -0.006593\n",
       "V11              0.003287\n",
       "V12             -0.007348\n",
       "V13             -0.000395\n",
       "V14             -0.005373\n",
       "V15              0.001686\n",
       "V16             -0.007527\n",
       "V17              1.000000\n",
       "V18             -0.003768\n",
       "V19              0.000765\n",
       "V20              0.002074\n",
       "V21             -0.001796\n",
       "V22              0.001256\n",
       "V23              0.002407\n",
       "V24             -0.001959\n",
       "V25             -0.000666\n",
       "V26             -0.000063\n",
       "V27             -0.005216\n",
       "V28             -0.002053\n",
       "scaled_amount    0.005924\n",
       "scaled_time     -0.074405\n",
       "new_var          1.000000\n",
       "new_var_V17      0.988391\n",
       "new_var_V14     -0.005547\n",
       "new_var_V7      -0.006760\n",
       "new_var_V10     -0.007382\n",
       "Name: V17, dtype: float64"
      ]
     },
     "execution_count": 44,
     "metadata": {},
     "output_type": "execute_result"
    }
   ],
   "source": [
    "# Let's see the resulting correlation of new variable with the original variable\n",
    "X_train.corr()['V17']"
   ]
  },
  {
   "cell_type": "markdown",
   "metadata": {},
   "source": [
    "###  following similar process for  V14,V7,V10"
   ]
  },
  {
   "cell_type": "code",
   "execution_count": 45,
   "metadata": {},
   "outputs": [
    {
     "data": {
      "text/plain": [
       "count    199364.000000\n",
       "mean          0.000123\n",
       "std           0.956478\n",
       "min         -19.214325\n",
       "25%          -0.424956\n",
       "50%           0.050716\n",
       "75%           0.493505\n",
       "max          10.526766\n",
       "Name: V14, dtype: float64"
      ]
     },
     "execution_count": 45,
     "metadata": {},
     "output_type": "execute_result"
    }
   ],
   "source": [
    "X_train['V14'].describe()"
   ]
  },
  {
   "cell_type": "code",
   "execution_count": 46,
   "metadata": {},
   "outputs": [],
   "source": [
    "X_train['new_var_V14']=X_train['V14'].apply(lambda x:x+random.uniform(-0.4,0.5))\n",
    "X_test['new_var_V14']=X_test['V14'].apply(lambda x:x+random.uniform(-0.4,0.5))\n"
   ]
  },
  {
   "cell_type": "code",
   "execution_count": 47,
   "metadata": {
    "scrolled": true
   },
   "outputs": [
    {
     "data": {
      "text/plain": [
       "V1              -0.001992\n",
       "V2               0.001876\n",
       "V3              -0.003451\n",
       "V4               0.000852\n",
       "V5              -0.001402\n",
       "V6              -0.001222\n",
       "V7              -0.007570\n",
       "V8               0.001039\n",
       "V9              -0.003786\n",
       "V10             -0.005378\n",
       "V11             -0.000328\n",
       "V12             -0.003224\n",
       "V13             -0.000725\n",
       "V14              1.000000\n",
       "V15             -0.001043\n",
       "V16             -0.003349\n",
       "V17             -0.005373\n",
       "V18             -0.002714\n",
       "V19              0.001573\n",
       "V20              0.001175\n",
       "V21             -0.003647\n",
       "V22              0.001776\n",
       "V23             -0.000208\n",
       "V24              0.001518\n",
       "V25             -0.000704\n",
       "V26              0.001554\n",
       "V27             -0.003828\n",
       "V28             -0.001962\n",
       "scaled_amount    0.030429\n",
       "scaled_time     -0.095317\n",
       "new_var         -0.005373\n",
       "new_var_V17     -0.005178\n",
       "new_var_V14      0.964867\n",
       "new_var_V7      -0.007048\n",
       "new_var_V10     -0.006235\n",
       "Name: V14, dtype: float64"
      ]
     },
     "execution_count": 47,
     "metadata": {},
     "output_type": "execute_result"
    }
   ],
   "source": [
    "X_train.corr()['V14']"
   ]
  },
  {
   "cell_type": "code",
   "execution_count": 48,
   "metadata": {},
   "outputs": [
    {
     "data": {
      "text/plain": [
       "count    199364.000000\n",
       "mean          0.000137\n",
       "std           1.246990\n",
       "min         -43.557242\n",
       "25%          -0.554875\n",
       "50%           0.040497\n",
       "75%           0.570080\n",
       "max         120.589494\n",
       "Name: V7, dtype: float64"
      ]
     },
     "execution_count": 48,
     "metadata": {},
     "output_type": "execute_result"
    }
   ],
   "source": [
    "X_train['V7'].describe()"
   ]
  },
  {
   "cell_type": "code",
   "execution_count": 49,
   "metadata": {},
   "outputs": [],
   "source": [
    "X_train['new_var_V7']=X_train['V7'].apply(lambda x:x+random.uniform(-0.4,0.5))\n",
    "X_test['new_var_V7']=X_test['V7'].apply(lambda x:x+random.uniform(-0.4,0.5))\n"
   ]
  },
  {
   "cell_type": "code",
   "execution_count": 50,
   "metadata": {
    "scrolled": true
   },
   "outputs": [
    {
     "data": {
      "text/plain": [
       "V1               0.008937\n",
       "V2               0.004467\n",
       "V3               0.026912\n",
       "V4              -0.011816\n",
       "V5               0.045784\n",
       "V6              -0.020501\n",
       "V7               1.000000\n",
       "V8              -0.023351\n",
       "V9               0.003025\n",
       "V10              0.004871\n",
       "V11             -0.007287\n",
       "V12              0.019507\n",
       "V13             -0.008818\n",
       "V14              0.018014\n",
       "V15             -0.008385\n",
       "V16              0.003830\n",
       "V17              0.016479\n",
       "V18              0.006491\n",
       "V19             -0.009809\n",
       "V20              0.047486\n",
       "V21              0.016248\n",
       "V22             -0.005244\n",
       "V23              0.010422\n",
       "V24              0.001174\n",
       "V25             -0.002594\n",
       "V26             -0.000810\n",
       "V27             -0.033056\n",
       "V28              0.020174\n",
       "scaled_amount    0.365779\n",
       "scaled_time      0.082475\n",
       "new_var          0.016479\n",
       "new_var_V17      0.015901\n",
       "new_var_V14      0.018352\n",
       "new_var_V7       0.977797\n",
       "new_var_V10      0.003412\n",
       "Name: V7, dtype: float64"
      ]
     },
     "execution_count": 50,
     "metadata": {},
     "output_type": "execute_result"
    }
   ],
   "source": [
    "X_test.corr()['V7']"
   ]
  },
  {
   "cell_type": "code",
   "execution_count": 51,
   "metadata": {},
   "outputs": [
    {
     "data": {
      "text/plain": [
       "count    199364.000000\n",
       "mean         -0.000302\n",
       "std           1.081960\n",
       "min         -24.588262\n",
       "25%          -0.534082\n",
       "50%          -0.091447\n",
       "75%           0.453239\n",
       "max          15.331742\n",
       "Name: V10, dtype: float64"
      ]
     },
     "execution_count": 51,
     "metadata": {},
     "output_type": "execute_result"
    }
   ],
   "source": [
    "X_train['V10'].describe()"
   ]
  },
  {
   "cell_type": "code",
   "execution_count": 52,
   "metadata": {},
   "outputs": [],
   "source": [
    "X_train['new_var_V10']=X_train['V10'].apply(lambda x:x+random.uniform(-0.4,0.5))\n",
    "X_test['new_var_V10']=X_test['V10'].apply(lambda x:x+random.uniform(-0.4,0.5))\n"
   ]
  },
  {
   "cell_type": "code",
   "execution_count": 53,
   "metadata": {
    "scrolled": true
   },
   "outputs": [
    {
     "data": {
      "text/plain": [
       "V1              -0.001754\n",
       "V2               0.013340\n",
       "V3               0.006780\n",
       "V4              -0.008555\n",
       "V5               0.000237\n",
       "V6               0.006219\n",
       "V7               0.004871\n",
       "V8              -0.010123\n",
       "V9               0.016698\n",
       "V10              1.000000\n",
       "V11             -0.006991\n",
       "V12              0.019921\n",
       "V13             -0.002981\n",
       "V14              0.012201\n",
       "V15             -0.003246\n",
       "V16              0.007099\n",
       "V17              0.014843\n",
       "V18              0.006208\n",
       "V19             -0.000532\n",
       "V20              0.010370\n",
       "V21             -0.013692\n",
       "V22              0.005718\n",
       "V23              0.009744\n",
       "V24             -0.003995\n",
       "V25              0.007238\n",
       "V26             -0.004788\n",
       "V27              0.003566\n",
       "V28             -0.011253\n",
       "scaled_amount   -0.102288\n",
       "scaled_time      0.033125\n",
       "new_var          0.014843\n",
       "new_var_V17      0.014589\n",
       "new_var_V14      0.012206\n",
       "new_var_V7       0.005489\n",
       "new_var_V10      0.973359\n",
       "Name: V10, dtype: float64"
      ]
     },
     "execution_count": 53,
     "metadata": {},
     "output_type": "execute_result"
    }
   ],
   "source": [
    "X_test.corr()['V10']"
   ]
  },
  {
   "cell_type": "markdown",
   "metadata": {},
   "source": [
    "Correlation:\n",
    "new_var_v17 corr with v17=0.98\n"
   ]
  },
  {
   "cell_type": "markdown",
   "metadata": {},
   "source": [
    "new_var_v14 corr with v14= 0.96\n"
   ]
  },
  {
   "cell_type": "markdown",
   "metadata": {},
   "source": [
    "new_var_v7 corr with v7=0.977\n"
   ]
  },
  {
   "cell_type": "markdown",
   "metadata": {},
   "source": [
    "new_var_v10 corr with v10=0.973"
   ]
  },
  {
   "cell_type": "markdown",
   "metadata": {},
   "source": [
    "### checking model performance after introducing 4 partially correlated variable"
   ]
  },
  {
   "cell_type": "code",
   "execution_count": 54,
   "metadata": {},
   "outputs": [
    {
     "name": "stdout",
     "output_type": "stream",
     "text": [
      "[0]\tvalidation_0-auc:0.903496\tvalidation_1-auc:0.88731\n",
      "[25]\tvalidation_0-auc:0.924523\tvalidation_1-auc:0.924777\n",
      "[50]\tvalidation_0-auc:0.975601\tvalidation_1-auc:0.955724\n",
      "[75]\tvalidation_0-auc:0.992024\tvalidation_1-auc:0.971422\n",
      "[100]\tvalidation_0-auc:0.996847\tvalidation_1-auc:0.978318\n",
      "[124]\tvalidation_0-auc:0.998093\tvalidation_1-auc:0.981696\n"
     ]
    },
    {
     "data": {
      "text/plain": [
       "XGBClassifier(n_estimators=125, seed=123)"
      ]
     },
     "execution_count": 54,
     "metadata": {},
     "output_type": "execute_result"
    }
   ],
   "source": [
    "xgb_model=XGBClassifier(max_depth=3, learning_rate=0.1, n_estimators=125,seed=123)\n",
    "xgb_model.fit(X_train,Y_train,eval_set=[(X_train,Y_train),(X_test,Y_test)],eval_metric=['auc'],verbose=25)"
   ]
  },
  {
   "cell_type": "markdown",
   "metadata": {},
   "source": [
    "### Effect of correlation on Variable importance"
   ]
  },
  {
   "cell_type": "code",
   "execution_count": 38,
   "metadata": {},
   "outputs": [],
   "source": [
    "variable_imp=pd.DataFrame({'variable':X_train.columns,'imp':xgb_model.feature_importances_})\n",
    "variable_imp.sort_values('imp',ascending=False,inplace=True)\n",
    "variable_imp['percentile']=variable_imp['imp']*100/variable_imp.iloc[0,1]\n"
   ]
  },
  {
   "cell_type": "code",
   "execution_count": 39,
   "metadata": {},
   "outputs": [
    {
     "data": {
      "text/html": [
       "<div>\n",
       "<style scoped>\n",
       "    .dataframe tbody tr th:only-of-type {\n",
       "        vertical-align: middle;\n",
       "    }\n",
       "\n",
       "    .dataframe tbody tr th {\n",
       "        vertical-align: top;\n",
       "    }\n",
       "\n",
       "    .dataframe thead th {\n",
       "        text-align: right;\n",
       "    }\n",
       "</style>\n",
       "<table border=\"1\" class=\"dataframe\">\n",
       "  <thead>\n",
       "    <tr style=\"text-align: right;\">\n",
       "      <th></th>\n",
       "      <th>variable</th>\n",
       "      <th>imp</th>\n",
       "      <th>percentile</th>\n",
       "    </tr>\n",
       "  </thead>\n",
       "  <tbody>\n",
       "    <tr>\n",
       "      <th>16</th>\n",
       "      <td>V17</td>\n",
       "      <td>0.209892</td>\n",
       "      <td>100.000000</td>\n",
       "    </tr>\n",
       "    <tr>\n",
       "      <th>31</th>\n",
       "      <td>new_var_V17</td>\n",
       "      <td>0.198895</td>\n",
       "      <td>94.760773</td>\n",
       "    </tr>\n",
       "    <tr>\n",
       "      <th>32</th>\n",
       "      <td>new_var_V14</td>\n",
       "      <td>0.074100</td>\n",
       "      <td>35.304081</td>\n",
       "    </tr>\n",
       "    <tr>\n",
       "      <th>34</th>\n",
       "      <td>new_var_V10</td>\n",
       "      <td>0.048034</td>\n",
       "      <td>22.885035</td>\n",
       "    </tr>\n",
       "    <tr>\n",
       "      <th>6</th>\n",
       "      <td>V7</td>\n",
       "      <td>0.043189</td>\n",
       "      <td>20.576725</td>\n",
       "    </tr>\n",
       "    <tr>\n",
       "      <th>13</th>\n",
       "      <td>V14</td>\n",
       "      <td>0.042035</td>\n",
       "      <td>20.026888</td>\n",
       "    </tr>\n",
       "    <tr>\n",
       "      <th>26</th>\n",
       "      <td>V27</td>\n",
       "      <td>0.024402</td>\n",
       "      <td>11.626035</td>\n",
       "    </tr>\n",
       "    <tr>\n",
       "      <th>11</th>\n",
       "      <td>V12</td>\n",
       "      <td>0.022688</td>\n",
       "      <td>10.809585</td>\n",
       "    </tr>\n",
       "    <tr>\n",
       "      <th>9</th>\n",
       "      <td>V10</td>\n",
       "      <td>0.022331</td>\n",
       "      <td>10.639076</td>\n",
       "    </tr>\n",
       "    <tr>\n",
       "      <th>3</th>\n",
       "      <td>V4</td>\n",
       "      <td>0.021658</td>\n",
       "      <td>10.318623</td>\n",
       "    </tr>\n",
       "  </tbody>\n",
       "</table>\n",
       "</div>"
      ],
      "text/plain": [
       "       variable       imp  percentile\n",
       "16          V17  0.209892  100.000000\n",
       "31  new_var_V17  0.198895   94.760773\n",
       "32  new_var_V14  0.074100   35.304081\n",
       "34  new_var_V10  0.048034   22.885035\n",
       "6            V7  0.043189   20.576725\n",
       "13          V14  0.042035   20.026888\n",
       "26          V27  0.024402   11.626035\n",
       "11          V12  0.022688   10.809585\n",
       "9           V10  0.022331   10.639076\n",
       "3            V4  0.021658   10.318623"
      ]
     },
     "execution_count": 39,
     "metadata": {},
     "output_type": "execute_result"
    }
   ],
   "source": [
    "variable_imp.head(10)"
   ]
  },
  {
   "cell_type": "code",
   "execution_count": 40,
   "metadata": {},
   "outputs": [
    {
     "data": {
      "text/html": [
       "<div>\n",
       "<style scoped>\n",
       "    .dataframe tbody tr th:only-of-type {\n",
       "        vertical-align: middle;\n",
       "    }\n",
       "\n",
       "    .dataframe tbody tr th {\n",
       "        vertical-align: top;\n",
       "    }\n",
       "\n",
       "    .dataframe thead th {\n",
       "        text-align: right;\n",
       "    }\n",
       "</style>\n",
       "<table border=\"1\" class=\"dataframe\">\n",
       "  <thead>\n",
       "    <tr style=\"text-align: right;\">\n",
       "      <th></th>\n",
       "      <th>variable</th>\n",
       "      <th>imp</th>\n",
       "      <th>percentile</th>\n",
       "    </tr>\n",
       "  </thead>\n",
       "  <tbody>\n",
       "    <tr>\n",
       "      <th>21</th>\n",
       "      <td>V22</td>\n",
       "      <td>0.010742</td>\n",
       "      <td>5.117947</td>\n",
       "    </tr>\n",
       "    <tr>\n",
       "      <th>33</th>\n",
       "      <td>new_var_V7</td>\n",
       "      <td>0.010394</td>\n",
       "      <td>4.952227</td>\n",
       "    </tr>\n",
       "    <tr>\n",
       "      <th>14</th>\n",
       "      <td>V15</td>\n",
       "      <td>0.010295</td>\n",
       "      <td>4.904700</td>\n",
       "    </tr>\n",
       "    <tr>\n",
       "      <th>4</th>\n",
       "      <td>V5</td>\n",
       "      <td>0.010063</td>\n",
       "      <td>4.794604</td>\n",
       "    </tr>\n",
       "    <tr>\n",
       "      <th>2</th>\n",
       "      <td>V3</td>\n",
       "      <td>0.009901</td>\n",
       "      <td>4.717388</td>\n",
       "    </tr>\n",
       "    <tr>\n",
       "      <th>15</th>\n",
       "      <td>V16</td>\n",
       "      <td>0.009426</td>\n",
       "      <td>4.491082</td>\n",
       "    </tr>\n",
       "    <tr>\n",
       "      <th>0</th>\n",
       "      <td>V1</td>\n",
       "      <td>0.008642</td>\n",
       "      <td>4.117443</td>\n",
       "    </tr>\n",
       "    <tr>\n",
       "      <th>18</th>\n",
       "      <td>V19</td>\n",
       "      <td>0.007792</td>\n",
       "      <td>3.712486</td>\n",
       "    </tr>\n",
       "    <tr>\n",
       "      <th>22</th>\n",
       "      <td>V23</td>\n",
       "      <td>0.006107</td>\n",
       "      <td>2.909774</td>\n",
       "    </tr>\n",
       "    <tr>\n",
       "      <th>30</th>\n",
       "      <td>new_var</td>\n",
       "      <td>0.000000</td>\n",
       "      <td>0.000000</td>\n",
       "    </tr>\n",
       "  </tbody>\n",
       "</table>\n",
       "</div>"
      ],
      "text/plain": [
       "      variable       imp  percentile\n",
       "21         V22  0.010742    5.117947\n",
       "33  new_var_V7  0.010394    4.952227\n",
       "14         V15  0.010295    4.904700\n",
       "4           V5  0.010063    4.794604\n",
       "2           V3  0.009901    4.717388\n",
       "15         V16  0.009426    4.491082\n",
       "0           V1  0.008642    4.117443\n",
       "18         V19  0.007792    3.712486\n",
       "22         V23  0.006107    2.909774\n",
       "30     new_var  0.000000    0.000000"
      ]
     },
     "execution_count": 40,
     "metadata": {},
     "output_type": "execute_result"
    }
   ],
   "source": [
    "variable_imp.tail(10)"
   ]
  },
  {
   "cell_type": "markdown",
   "metadata": {},
   "source": [
    "####  We can see that there is marginal increase in performance, implying that xgboost is not heavily impacted by removal of the correlated variable.Also the variable importane of  original variable is shared by  new correlated variable\n",
    "####  Also since correlated variable are being created with the help of random function thus we can expect slight change in performance"
   ]
  },
  {
   "cell_type": "markdown",
   "metadata": {},
   "source": [
    " *************************************************************************************************************"
   ]
  },
  {
   "cell_type": "markdown",
   "metadata": {},
   "source": [
    "### Part 1.1"
   ]
  },
  {
   "cell_type": "markdown",
   "metadata": {},
   "source": [
    "### I tried one more exercise by introducing partially correlated variable, correlation between 0.8 and 0.9"
   ]
  },
  {
   "cell_type": "markdown",
   "metadata": {},
   "source": [
    " ***** creating new variable with 0.8<corr<0.9 *****"
   ]
  },
  {
   "cell_type": "code",
   "execution_count": 58,
   "metadata": {},
   "outputs": [],
   "source": [
    "# cretaing train -test again for fresh start\n",
    "X_train, X_test, Y_train, Y_test = train_test_split(X, y, test_size=0.3,random_state=123)\n"
   ]
  },
  {
   "cell_type": "code",
   "execution_count": 59,
   "metadata": {},
   "outputs": [],
   "source": [
    "X_train['new_var_V17']=X_train['V17'].apply(lambda x:x+random.uniform(-0.5,1))\n",
    "X_test['new_var_V17']=X_test['V17'].apply(lambda x:x+random.uniform(-0.5,1))\n"
   ]
  },
  {
   "cell_type": "code",
   "execution_count": 60,
   "metadata": {
    "scrolled": true
   },
   "outputs": [
    {
     "data": {
      "text/plain": [
       "V1              -0.003316\n",
       "V2              -0.000222\n",
       "V3              -0.004945\n",
       "V4               0.004516\n",
       "V5              -0.002112\n",
       "V6              -0.001271\n",
       "V7              -0.005241\n",
       "V8               0.000096\n",
       "V9              -0.003618\n",
       "V10             -0.007159\n",
       "V11              0.003258\n",
       "V12             -0.006428\n",
       "V13             -0.000799\n",
       "V14             -0.002769\n",
       "V15              0.003794\n",
       "V16             -0.008051\n",
       "V17              0.890150\n",
       "V18             -0.003661\n",
       "V19              0.000549\n",
       "V20              0.002323\n",
       "V21             -0.001850\n",
       "V22              0.001098\n",
       "V23              0.002313\n",
       "V24             -0.001547\n",
       "V25             -0.000301\n",
       "V26              0.001640\n",
       "V27             -0.004218\n",
       "V28             -0.001244\n",
       "scaled_amount    0.007969\n",
       "scaled_time     -0.067215\n",
       "new_var_V17      1.000000\n",
       "Name: new_var_V17, dtype: float64"
      ]
     },
     "execution_count": 60,
     "metadata": {},
     "output_type": "execute_result"
    }
   ],
   "source": [
    "X_train.corr()['new_var_V17']"
   ]
  },
  {
   "cell_type": "markdown",
   "metadata": {},
   "source": [
    "#### new_var_V17 corr is  0.88"
   ]
  },
  {
   "cell_type": "code",
   "execution_count": 61,
   "metadata": {},
   "outputs": [],
   "source": [
    "X_train['new_var_V14']=X_train['V14'].apply(lambda x:x+random.uniform(-0.8,1))\n",
    "X_test['new_var_V14']=X_test['V14'].apply(lambda x:x+random.uniform(-0.8,1))\n"
   ]
  },
  {
   "cell_type": "code",
   "execution_count": 62,
   "metadata": {
    "scrolled": true
   },
   "outputs": [
    {
     "data": {
      "text/plain": [
       "V1              -0.001518\n",
       "V2               0.002064\n",
       "V3              -0.003371\n",
       "V4               0.000127\n",
       "V5              -0.000997\n",
       "V6              -0.001673\n",
       "V7              -0.006035\n",
       "V8               0.000082\n",
       "V9              -0.002220\n",
       "V10             -0.004397\n",
       "V11              0.000550\n",
       "V12             -0.004538\n",
       "V13              0.000383\n",
       "V14              0.879204\n",
       "V15             -0.000274\n",
       "V16             -0.005098\n",
       "V17             -0.004399\n",
       "V18             -0.001685\n",
       "V19              0.003426\n",
       "V20              0.000622\n",
       "V21             -0.003764\n",
       "V22             -0.001930\n",
       "V23             -0.001879\n",
       "V24              0.001939\n",
       "V25             -0.000467\n",
       "V26              0.000586\n",
       "V27             -0.002949\n",
       "V28             -0.000467\n",
       "scaled_amount    0.026666\n",
       "scaled_time     -0.083769\n",
       "new_var_V17     -0.002394\n",
       "new_var_V14      1.000000\n",
       "Name: new_var_V14, dtype: float64"
      ]
     },
     "execution_count": 62,
     "metadata": {},
     "output_type": "execute_result"
    }
   ],
   "source": [
    "X_train.corr()['new_var_V14']"
   ]
  },
  {
   "cell_type": "markdown",
   "metadata": {},
   "source": [
    "#### new_var_V14 corr is  0.87"
   ]
  },
  {
   "cell_type": "code",
   "execution_count": 63,
   "metadata": {},
   "outputs": [],
   "source": [
    "X_train['new_var_V7']=X_train['V7'].apply(lambda x:x+random.uniform(-1,1.2))\n",
    "X_test['new_var_V7']=X_test['V7'].apply(lambda x:x+random.uniform(-1,1.2))\n"
   ]
  },
  {
   "cell_type": "code",
   "execution_count": 64,
   "metadata": {},
   "outputs": [
    {
     "data": {
      "text/plain": [
       "V1              -0.001789\n",
       "V2              -0.001712\n",
       "V3              -0.010899\n",
       "V4               0.004175\n",
       "V5              -0.016948\n",
       "V6               0.007311\n",
       "V7               0.891101\n",
       "V8               0.008562\n",
       "V9              -0.000780\n",
       "V10              0.000640\n",
       "V11              0.003457\n",
       "V12             -0.007323\n",
       "V13              0.003858\n",
       "V14             -0.005740\n",
       "V15              0.002900\n",
       "V16              0.000618\n",
       "V17             -0.006266\n",
       "V18             -0.001107\n",
       "V19              0.004203\n",
       "V20             -0.017906\n",
       "V21             -0.004248\n",
       "V22              0.001149\n",
       "V23             -0.003876\n",
       "V24             -0.000356\n",
       "V25              0.000711\n",
       "V26             -0.000878\n",
       "V27              0.011553\n",
       "V28             -0.004955\n",
       "scaled_amount    0.365023\n",
       "scaled_time      0.075821\n",
       "new_var_V17     -0.004166\n",
       "new_var_V14     -0.004090\n",
       "new_var_V7       1.000000\n",
       "Name: new_var_V7, dtype: float64"
      ]
     },
     "execution_count": 64,
     "metadata": {},
     "output_type": "execute_result"
    }
   ],
   "source": [
    "X_train.corr()['new_var_V7']"
   ]
  },
  {
   "cell_type": "markdown",
   "metadata": {},
   "source": [
    "#### new_var_7 corr is  0.89"
   ]
  },
  {
   "cell_type": "code",
   "execution_count": 65,
   "metadata": {},
   "outputs": [],
   "source": [
    "X_train['new_var_V10']=X_train['V10'].apply(lambda x:x+random.uniform(-1,1))\n",
    "X_test['new_var_V10']=X_test['V10'].apply(lambda x:x+random.uniform(-1,1))\n"
   ]
  },
  {
   "cell_type": "code",
   "execution_count": 66,
   "metadata": {
    "scrolled": true
   },
   "outputs": [
    {
     "data": {
      "text/plain": [
       "V1               0.001497\n",
       "V2              -0.003987\n",
       "V3              -0.001215\n",
       "V4               0.002658\n",
       "V5               0.000435\n",
       "V6              -0.002181\n",
       "V7              -0.002390\n",
       "V8               0.005423\n",
       "V9              -0.006753\n",
       "V10              0.881853\n",
       "V11              0.002699\n",
       "V12             -0.006851\n",
       "V13              0.001449\n",
       "V14             -0.001955\n",
       "V15             -0.000250\n",
       "V16             -0.005174\n",
       "V17             -0.004083\n",
       "V18             -0.001435\n",
       "V19              0.000999\n",
       "V20             -0.004259\n",
       "V21              0.004302\n",
       "V22             -0.002760\n",
       "V23             -0.003955\n",
       "V24              0.000962\n",
       "V25             -0.002915\n",
       "V26              0.000380\n",
       "V27             -0.001622\n",
       "V28              0.004161\n",
       "scaled_amount   -0.090809\n",
       "scaled_time      0.025061\n",
       "new_var_V17     -0.004601\n",
       "new_var_V14     -0.001602\n",
       "new_var_V7       0.000365\n",
       "new_var_V10      1.000000\n",
       "Name: new_var_V10, dtype: float64"
      ]
     },
     "execution_count": 66,
     "metadata": {},
     "output_type": "execute_result"
    }
   ],
   "source": [
    "X_train.corr()['new_var_V10']"
   ]
  },
  {
   "cell_type": "markdown",
   "metadata": {},
   "source": [
    "#### new_var_10 corr is  0.88"
   ]
  },
  {
   "cell_type": "markdown",
   "metadata": {},
   "source": [
    "### Checking model performance"
   ]
  },
  {
   "cell_type": "code",
   "execution_count": 67,
   "metadata": {},
   "outputs": [
    {
     "name": "stdout",
     "output_type": "stream",
     "text": [
      "[0]\tvalidation_0-auc:0.895983\tvalidation_1-auc:0.871693\n",
      "[25]\tvalidation_0-auc:0.924531\tvalidation_1-auc:0.921668\n",
      "[50]\tvalidation_0-auc:0.975009\tvalidation_1-auc:0.957666\n",
      "[75]\tvalidation_0-auc:0.99282\tvalidation_1-auc:0.970988\n",
      "[100]\tvalidation_0-auc:0.996456\tvalidation_1-auc:0.978528\n",
      "[124]\tvalidation_0-auc:0.997752\tvalidation_1-auc:0.981413\n"
     ]
    },
    {
     "data": {
      "text/plain": [
       "XGBClassifier(n_estimators=125, seed=123)"
      ]
     },
     "execution_count": 67,
     "metadata": {},
     "output_type": "execute_result"
    }
   ],
   "source": [
    "xgb_model=XGBClassifier(max_depth=3, learning_rate=0.1, n_estimators=125,seed=123)\n",
    "xgb_model.fit(X_train,Y_train,eval_set=[(X_train,Y_train),(X_test,Y_test)],eval_metric=['auc'],verbose=25)"
   ]
  },
  {
   "cell_type": "code",
   "execution_count": 68,
   "metadata": {},
   "outputs": [],
   "source": [
    "variable_imp=pd.DataFrame({'variable':X_train.columns,'imp':xgb_model.feature_importances_})\n",
    "variable_imp.sort_values('imp',ascending=False,inplace=True)\n",
    "variable_imp['percentile']=variable_imp['imp']*100/variable_imp.iloc[0,1]\n"
   ]
  },
  {
   "cell_type": "code",
   "execution_count": 69,
   "metadata": {},
   "outputs": [
    {
     "data": {
      "text/html": [
       "<div>\n",
       "<style scoped>\n",
       "    .dataframe tbody tr th:only-of-type {\n",
       "        vertical-align: middle;\n",
       "    }\n",
       "\n",
       "    .dataframe tbody tr th {\n",
       "        vertical-align: top;\n",
       "    }\n",
       "\n",
       "    .dataframe thead th {\n",
       "        text-align: right;\n",
       "    }\n",
       "</style>\n",
       "<table border=\"1\" class=\"dataframe\">\n",
       "  <thead>\n",
       "    <tr style=\"text-align: right;\">\n",
       "      <th></th>\n",
       "      <th>variable</th>\n",
       "      <th>imp</th>\n",
       "      <th>percentile</th>\n",
       "    </tr>\n",
       "  </thead>\n",
       "  <tbody>\n",
       "    <tr>\n",
       "      <th>16</th>\n",
       "      <td>V17</td>\n",
       "      <td>0.262655</td>\n",
       "      <td>100.000000</td>\n",
       "    </tr>\n",
       "    <tr>\n",
       "      <th>30</th>\n",
       "      <td>new_var_V17</td>\n",
       "      <td>0.086497</td>\n",
       "      <td>32.931885</td>\n",
       "    </tr>\n",
       "    <tr>\n",
       "      <th>13</th>\n",
       "      <td>V14</td>\n",
       "      <td>0.073167</td>\n",
       "      <td>27.856531</td>\n",
       "    </tr>\n",
       "    <tr>\n",
       "      <th>6</th>\n",
       "      <td>V7</td>\n",
       "      <td>0.057156</td>\n",
       "      <td>21.760967</td>\n",
       "    </tr>\n",
       "    <tr>\n",
       "      <th>9</th>\n",
       "      <td>V10</td>\n",
       "      <td>0.038675</td>\n",
       "      <td>14.724800</td>\n",
       "    </tr>\n",
       "    <tr>\n",
       "      <th>33</th>\n",
       "      <td>new_var_V10</td>\n",
       "      <td>0.036213</td>\n",
       "      <td>13.787479</td>\n",
       "    </tr>\n",
       "    <tr>\n",
       "      <th>31</th>\n",
       "      <td>new_var_V14</td>\n",
       "      <td>0.033008</td>\n",
       "      <td>12.566878</td>\n",
       "    </tr>\n",
       "    <tr>\n",
       "      <th>26</th>\n",
       "      <td>V27</td>\n",
       "      <td>0.025925</td>\n",
       "      <td>9.870428</td>\n",
       "    </tr>\n",
       "    <tr>\n",
       "      <th>3</th>\n",
       "      <td>V4</td>\n",
       "      <td>0.025471</td>\n",
       "      <td>9.697683</td>\n",
       "    </tr>\n",
       "    <tr>\n",
       "      <th>25</th>\n",
       "      <td>V26</td>\n",
       "      <td>0.024627</td>\n",
       "      <td>9.376287</td>\n",
       "    </tr>\n",
       "  </tbody>\n",
       "</table>\n",
       "</div>"
      ],
      "text/plain": [
       "       variable       imp  percentile\n",
       "16          V17  0.262655  100.000000\n",
       "30  new_var_V17  0.086497   32.931885\n",
       "13          V14  0.073167   27.856531\n",
       "6            V7  0.057156   21.760967\n",
       "9           V10  0.038675   14.724800\n",
       "33  new_var_V10  0.036213   13.787479\n",
       "31  new_var_V14  0.033008   12.566878\n",
       "26          V27  0.025925    9.870428\n",
       "3            V4  0.025471    9.697683\n",
       "25          V26  0.024627    9.376287"
      ]
     },
     "execution_count": 69,
     "metadata": {},
     "output_type": "execute_result"
    }
   ],
   "source": [
    "variable_imp.head(10)"
   ]
  },
  {
   "cell_type": "code",
   "execution_count": 70,
   "metadata": {},
   "outputs": [
    {
     "data": {
      "text/html": [
       "<div>\n",
       "<style scoped>\n",
       "    .dataframe tbody tr th:only-of-type {\n",
       "        vertical-align: middle;\n",
       "    }\n",
       "\n",
       "    .dataframe tbody tr th {\n",
       "        vertical-align: top;\n",
       "    }\n",
       "\n",
       "    .dataframe thead th {\n",
       "        text-align: right;\n",
       "    }\n",
       "</style>\n",
       "<table border=\"1\" class=\"dataframe\">\n",
       "  <thead>\n",
       "    <tr style=\"text-align: right;\">\n",
       "      <th></th>\n",
       "      <th>variable</th>\n",
       "      <th>imp</th>\n",
       "      <th>percentile</th>\n",
       "    </tr>\n",
       "  </thead>\n",
       "  <tbody>\n",
       "    <tr>\n",
       "      <th>17</th>\n",
       "      <td>V18</td>\n",
       "      <td>0.013094</td>\n",
       "      <td>4.985137</td>\n",
       "    </tr>\n",
       "    <tr>\n",
       "      <th>32</th>\n",
       "      <td>new_var_V7</td>\n",
       "      <td>0.012728</td>\n",
       "      <td>4.845744</td>\n",
       "    </tr>\n",
       "    <tr>\n",
       "      <th>14</th>\n",
       "      <td>V15</td>\n",
       "      <td>0.012260</td>\n",
       "      <td>4.667555</td>\n",
       "    </tr>\n",
       "    <tr>\n",
       "      <th>12</th>\n",
       "      <td>V13</td>\n",
       "      <td>0.012104</td>\n",
       "      <td>4.608418</td>\n",
       "    </tr>\n",
       "    <tr>\n",
       "      <th>4</th>\n",
       "      <td>V5</td>\n",
       "      <td>0.011916</td>\n",
       "      <td>4.536871</td>\n",
       "    </tr>\n",
       "    <tr>\n",
       "      <th>21</th>\n",
       "      <td>V22</td>\n",
       "      <td>0.011630</td>\n",
       "      <td>4.427858</td>\n",
       "    </tr>\n",
       "    <tr>\n",
       "      <th>0</th>\n",
       "      <td>V1</td>\n",
       "      <td>0.010952</td>\n",
       "      <td>4.169651</td>\n",
       "    </tr>\n",
       "    <tr>\n",
       "      <th>18</th>\n",
       "      <td>V19</td>\n",
       "      <td>0.010450</td>\n",
       "      <td>3.978678</td>\n",
       "    </tr>\n",
       "    <tr>\n",
       "      <th>22</th>\n",
       "      <td>V23</td>\n",
       "      <td>0.008909</td>\n",
       "      <td>3.392039</td>\n",
       "    </tr>\n",
       "    <tr>\n",
       "      <th>24</th>\n",
       "      <td>V25</td>\n",
       "      <td>0.007922</td>\n",
       "      <td>3.016236</td>\n",
       "    </tr>\n",
       "  </tbody>\n",
       "</table>\n",
       "</div>"
      ],
      "text/plain": [
       "      variable       imp  percentile\n",
       "17         V18  0.013094    4.985137\n",
       "32  new_var_V7  0.012728    4.845744\n",
       "14         V15  0.012260    4.667555\n",
       "12         V13  0.012104    4.608418\n",
       "4           V5  0.011916    4.536871\n",
       "21         V22  0.011630    4.427858\n",
       "0           V1  0.010952    4.169651\n",
       "18         V19  0.010450    3.978678\n",
       "22         V23  0.008909    3.392039\n",
       "24         V25  0.007922    3.016236"
      ]
     },
     "execution_count": 70,
     "metadata": {},
     "output_type": "execute_result"
    }
   ],
   "source": [
    "variable_imp.tail(10)"
   ]
  },
  {
   "cell_type": "markdown",
   "metadata": {},
   "source": [
    "####  We can see that again, there is marginal increase in performance, implying that xgboost is not heavily impacted by removal of the correlated variable and it is not dependent on the amount of correlation .Also the variable importane of variable is shared by  new correlated variable\n",
    "####  Also since correlated variable are being created with the help of random function thus we can expect slight change in performance"
   ]
  },
  {
   "cell_type": "markdown",
   "metadata": {},
   "source": [
    "# *************Thanks*************"
   ]
  },
  {
   "cell_type": "code",
   "execution_count": null,
   "metadata": {},
   "outputs": [],
   "source": []
  }
 ],
 "metadata": {
  "kernelspec": {
   "display_name": "Python 3",
   "language": "python",
   "name": "python3"
  },
  "language_info": {
   "codemirror_mode": {
    "name": "ipython",
    "version": 3
   },
   "file_extension": ".py",
   "mimetype": "text/x-python",
   "name": "python",
   "nbconvert_exporter": "python",
   "pygments_lexer": "ipython3",
   "version": "3.7.3"
  }
 },
 "nbformat": 4,
 "nbformat_minor": 4
}
